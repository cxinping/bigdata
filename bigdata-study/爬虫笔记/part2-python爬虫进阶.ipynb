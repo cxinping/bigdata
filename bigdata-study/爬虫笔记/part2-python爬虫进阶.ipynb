{
 "cells": [
  {
   "cell_type": "markdown",
   "metadata": {
    "slideshow": {
     "slide_type": "slide"
    }
   },
   "source": [
    "## 高性能爬虫实现爬虫\n",
    "通过前面的内容，我们已经能够完成一个爬虫，但是这个时候程序都是单线程，速度很慢。如何实现更高效的爬虫？\n",
    "\n",
    "- 多线程的方式实现爬虫\n",
    "- 多进程的方式实现爬虫\n",
    "- 线程池的方式实现爬虫\n",
    "- 协程池的方式实现爬虫"
   ]
  },
  {
   "cell_type": "markdown",
   "metadata": {
    "slideshow": {
     "slide_type": "slide"
    }
   },
   "source": [
    "### 爬取糗事百科段子\n",
    "#### 单线程爬虫实现"
   ]
  },
  {
   "cell_type": "markdown",
   "metadata": {
    "slideshow": {
     "slide_type": "slide"
    }
   },
   "source": [
    "**糗事百科地址：https://www.qiushibaike.com/**"
   ]
  },
  {
   "cell_type": "code",
   "execution_count": 14,
   "metadata": {
    "slideshow": {
     "slide_type": "slide"
    }
   },
   "outputs": [
    {
     "data": {
      "text/plain": [
       "[{'username': '窝里斗窝...', 'content': ['今天喂点儿好吃的']},\n",
       " {'username': '一枕清霜', 'content': ['有本事你冲我来啊']},\n",
       " {'username': '欧洲血统...', 'content': ['？？？']},\n",
       " {'username': '倾心倾情...',\n",
       "  'content': ['每次午休，我们关上门，boss就来敲门说事，后来就不午休了，可是不午休了吧boss还倒是不来了，再后来……我们开着门午休……[捂脸]']},\n",
       " {'username': '逗b聚乐...', 'content': ['流氓界的清流']},\n",
       " {'username': 'blue...', 'content': ['果然女孩子生起气来真的是不分年龄，都是一样的。']},\n",
       " {'username': '土豆se...', 'content': ['米切尔最后时刻致命失误！葬送了比赛啊！还是太年轻了！']},\n",
       " {'username': '逗b聚乐...', 'content': ['俗话说：']},\n",
       " {'username': '一口吳', 'content': ['来自小柴l的早安问候~✧*。٩و✧*。希望你今天心里住进小太阳']}]"
      ]
     },
     "execution_count": 14,
     "metadata": {},
     "output_type": "execute_result"
    }
   ],
   "source": [
    "import requests\n",
    "from lxml import etree\n",
    "\n",
    "headers = {\n",
    "    'User-Agent': 'Mozilla/5.0 (Windows NT 10.0; Win64; x64) AppleWebKit/537.36 (KHTML, like Gecko) Chrome/84.0.4147.89 Safari/537.36'\n",
    "}\n",
    "url = 'https://www.qiushibaike.com/8hr/page/3/'\n",
    "urllist = ['https://www.qiushibaike.com/8hr/page/{}/'.format(i) for i in range(1,2)]\n",
    "for url in urllist:\n",
    "    res = requests.get(url, headers=headers)\n",
    "    htmlstr = res.content.decode()\n",
    "    html = etree.HTML(htmlstr)\n",
    "    lilist = html.xpath('//*[@id=\"content\"]/div/div[2]/div/ul/li')\n",
    "#     print(lilist)\n",
    "    contentlist = []\n",
    "    for li in lilist:\n",
    "        item = {}\n",
    "        item['username'] = li.xpath('./div/div/a/span/text()')[0].strip()\n",
    "#         print(item)\n",
    "        item['content'] = li.xpath('./div/a/text()')\n",
    "        contentlist.append(item)\n",
    "contentlist"
   ]
  },
  {
   "cell_type": "code",
   "execution_count": 15,
   "metadata": {
    "slideshow": {
     "slide_type": "slide"
    }
   },
   "outputs": [
    {
     "data": {
      "text/plain": [
       "[{'username': '窝里斗窝...', 'content': ['今天喂点儿好吃的']},\n",
       " {'username': '一枕清霜', 'content': ['有本事你冲我来啊']},\n",
       " {'username': '欧洲血统...', 'content': ['？？？']},\n",
       " {'username': '倾心倾情...',\n",
       "  'content': ['每次午休，我们关上门，boss就来敲门说事，后来就不午休了，可是不午休了吧boss还倒是不来了，再后来……我们开着门午休……[捂脸]']},\n",
       " {'username': '逗b聚乐...', 'content': ['流氓界的清流']},\n",
       " {'username': 'blue...', 'content': ['果然女孩子生起气来真的是不分年龄，都是一样的。']},\n",
       " {'username': '土豆se...', 'content': ['米切尔最后时刻致命失误！葬送了比赛啊！还是太年轻了！']},\n",
       " {'username': '逗b聚乐...', 'content': ['俗话说：']},\n",
       " {'username': '一口吳', 'content': ['来自小柴l的早安问候~✧*。٩و✧*。希望你今天心里住进小太阳']}]"
      ]
     },
     "execution_count": 15,
     "metadata": {},
     "output_type": "execute_result"
    }
   ],
   "source": [
    "contentlist"
   ]
  },
  {
   "cell_type": "code",
   "execution_count": 18,
   "metadata": {
    "slideshow": {
     "slide_type": "slide"
    }
   },
   "outputs": [
    {
     "name": "stdout",
     "output_type": "stream",
     "text": [
      "{'username': '名字太俊...', 'content': ['我准备以后不让他俩来参加活动了！']}\n",
      "{'username': '撩汉大婶', 'content': ['此文采是多么盲流的风采']}\n",
      "{'username': '给叮叮把...', 'content': ['什么是神回复……请看图……']}\n",
      "{'username': '石锅拌着...', 'content': ['说个傻人有傻福的故事。有一发小人称莽哥，莽哥也有名字的，只因他莽出了境界，莽的有盐有味，莽的十里八乡都知道这个名字，故而再没人记得他本来叫什么。刚刚出生没多久父']}\n",
      "{'username': '-奶酪酱...', 'content': ['究竟是掉色了，还是生着生着没墨了？']}\n",
      "{'username': '一大坨宠...', 'content': ['“你这是什么意思？”']}\n",
      "{'username': '知-识-...', 'content': ['十二、偶有……']}\n",
      "{'username': '一枕清霜', 'content': ['经历了8个月的假期，送走孩子，父母们终于能放松一下了']}\n",
      "{'username': '老头子1...', 'content': ['在糗百上认识了一个女网友，我们聊了几个星期，感觉挺好的我就约她，她开始有点犹豫，后面还是同意了。她说了她的性格，我们也互换了照片，她说她颜值一般，本以为会是大型']}\n",
      "{'username': '凯德无', 'content': ['消化不了只能辞职']}\n",
      "{'username': '、(り执...', 'content': ['影视剪辑系列11.']}\n",
      "{'username': '王保平o...', 'content': ['荷兰摄影师DDu在维也纳旅行时，捕捉到了这只地松鼠和一朵小黄花之间不可磨灭的自然联系。']}\n",
      "{'username': '零點糗事', 'content': ['自己踩自己脚的舞步']}\n",
      "{'username': '白玉无尘', 'content': ['万万没想到啊']}\n",
      "{'username': '加州不老...', 'content': ['本以为是举手之劳，原来是多此一举，自取其辱！']}\n",
      "{'username': '陀舍幻宇', 'content': ['想看看你们的聊天记录里有多少哈哈哈']}\n",
      "{'username': '随便啊我...', 'content': ['家里买来了电脑后,老婆很快就迷上了网游,家务活儿都统统扔给了我。这天,我趁老婆上卫生间,悄悄地把主机插头拔掉,给老婆造成一个电脑无法启动的假象,看她还怎么上网?']}\n",
      "{'username': '酌酒歌鹿...', 'content': ['哈士奇，一个行走于人间的表情包！']}\n",
      "{'username': 'Anon...', 'content': ['我坚信梦想能到达的地方，脚步终有一天会到达目的地——床上，洗洗睡吧梦里想走到哪地行。']}\n",
      "{'username': '哈哈搞笑...', 'content': ['捧哏我只服于谦于大爷']}\n",
      "{'username': '阿杜卑鄙', 'content': ['你对橘猫的力量一无所知！']}\n",
      "{'username': '家有萌萌...', 'content': ['当狗子遇到老虎，虽然腿发软，但气势不能输']}\n",
      "{'username': '一丢丢丢...', 'content': ['这个牛可以换个房子吗？能不能交到女朋友就靠它了。']}\n",
      "{'username': '狐小乔', 'content': ['今天老妈因为家里洗发水摆放的位置又是一阵叨叨：从习惯上升到人品，从人品上升到为人处事听得我是一个头两个大，怒火压抑不住地蹭蹭往上窜，大声吼道:我……还没吼完，我']}\n",
      "{'username': 'badl...', 'content': ['现在的打火机质量能不能质量过关一点？？？？？？']}\n",
      "{'username': '镜端', 'content': ['最新一期走进科学：深夜浴室，男子触水瞬间面目全非……']}\n",
      "{'username': '教士白啤...', 'content': ['朋友，我们来一场异次元对话吧']}\n",
      "{'username': '撩汉大婶', 'content': ['小时候我爸经常给我吃这个，媳妇今天居然让我怀念……']}\n",
      "{'username': '地球村村...', 'content': ['？？']}\n",
      "{'username': '骑着二哈...', 'content': ['店员打烊前与萌娃隔玻璃斗舞#】近日，一炸鸡店员与萌娃斗舞的视频走红网络。原来那天小朋友和妈妈经过炸鸡店时看见店员正在跳街舞，便隔空battle起来，结束后还为他']}\n",
      "{'username': 'gong...', 'content': ['哈哈哈哈哈哈哈哈哈哈哈哈哈哈哈哈哈哈艹烤辣椒面？？？？？']}\n",
      "{'username': '小米虫在...', 'content': ['“你知道么…我家的床垫…还是无法忘记你…”']}\n",
      "{'username': '糗百精华...', 'content': ['春节，赌气，走夜路！怪声，长发，吓断魂！']}\n",
      "{'username': '白玉无尘', 'content': ['当你的孩子和狗被爸爸带的时候，我心态崩了']}\n",
      "{'username': 'Sugo...', 'content': ['哈哈哈哈哈哈哈哈哈哈哈哈哈这是人干的事儿吗？']}\n",
      "{'username': '石锅拌着...', 'content': ['说个傻人有傻福的故事。有一发小人称莽哥，莽哥也有名字的，只因他莽出了境界，莽的有盐有味，莽的十里八乡都知道这个名字，故而再没人记得他本来叫什么。刚刚出生没多久父']}\n",
      "{'username': '迷糊小颖', 'content': ['一小哥早起上山散步，猛地在路边发现一只野猪又心疼又忍不住笑搞笑']}\n",
      "{'username': '满满的，...', 'content': ['展昭在茅厕遇到包拯，问，包大人，为何你每次入厕都是在中间这个坑？因为我铁面无私呀！展昭疑惑，大人您公正廉明铁面无私这是路人皆知的，但是和您入厕有什么关系？包拯嘿']}\n",
      "{'username': '一枕清霜', 'content': ['吾辈楷模，七夕已过，这女人不要也罢！']}\n",
      "{'username': '社会学b...', 'content': ['锤子跟螺丝刀做梦都没想到它们二个有一天会合二为一这就是爱情懂了吗铁子']}\n",
      "{'username': '沧海天涯...', 'content': ['为什么小英每次都那么通情达理']}\n",
      "{'username': '皇家li...', 'content': ['世界之大无奇不有']}\n",
      "{'username': '左手食指...', 'content': ['某日，封闭开发小黑屋中几个男女程序员。一大姐突然说，“xxx那个死人去哪里了，说好的东西还不上交？”我悠悠说到，“你知道人和鬼的区别是什么嘛？”大姐茫然，“你把']}\n",
      "{'username': '漫画冯火', 'content': ['黄万里（1911年8月20日—2001年8月27日），中国著名水利工程学专家、清华大学教授。近代著名教育家、革命家黄炎培第三子，早年毕业于唐山交通大学（现西南交']}\n",
      "{'username': '二ya儿', 'content': ['吐槽那些傻吊小技巧106。']}\n",
      "{'username': '小妞我是...', 'content': ['又是边线球！塔克直接抢断！火箭104:102险胜雷霆晋级下一轮！！！']}\n",
      "{'username': '周海洋他...', 'content': ['原来全网通缉的“马超”是最近鹅厂综艺里的露露酱啊～没想到“新郎”变成了“新娘”，我更可以了！']}\n",
      "{'username': '逗b聚乐...', 'content': ['没想到，死后还有这样一劫……']}\n",
      "{'username': '糗友RI...', 'content': ['几个朋友去烧烤摊喝酒，酒过三巡，一哥们不无自豪的说想当初哥们我是做人事的，谁知现在会沦落到这地步，另一人红着脸迷糊的说：哦，你现在都不干“人事儿”了，怪不得混得']}\n",
      "{'username': '逗b聚乐...', 'content': ['是我没错了']}\n",
      "{'username': '哈哈搞笑...', 'content': ['这顿揍又挨上了']}\n",
      "{'username': '、(り执...', 'content': ['影视剪辑系列11.']}\n",
      "{'username': '兰花草园...', 'content': ['？？']}\n",
      "{'username': '李悟Z', 'content': ['我人生中和一个男人保持最长关系的就是我老板，整整5年的关系，现在依然保持着雇佣关系。']}\n",
      "{'username': '俄罗斯小...', 'content': ['“请9号选手和10号选手认真比赛，不要打架！”']}\n",
      "{'username': '卖火柴的...', 'content': ['糗友要给我寄她家特产莲藕，寻思这这玩意我的对手也不爱吃，就留了她电话和联系方式。哪里知道这是个陷阱，刚才一堆她不认识的人打电话给她，说要怎么怎么她，她也够强势，']}\n",
      "{'username': '迟迟未到...', 'content': ['沙雕网友欢乐多']}\n",
      "{'username': '小丸子吃...', 'content': ['别说谈恋爱前后的问题，就告诉我今天恋爱结婚一周年怎么办！我还没纠结好礼物送什么，买太贵的我得吃土，买太便宜的我可能很快就单身了恋爱之后的支出是门和经济学挂钩的学']}\n",
      "{'username': '东临～天...', 'content': ['为了干扰对方罚篮也是拼了！']}\n",
      "{'username': '铁胆火车...', 'content': ['英格尔斯给了穆雷大腿一膝盖！然后跑去慰问，被穆雷一把推开！']}\n",
      "{'username': '坏小孩c...', 'content': ['闲置物品群里有人卖二手的电动轮椅，五百块，我很有购买欲望，老公白了我一眼说：稍等下哈！我帮你!我心里美滋滋的。。。\\xa0\\xa0\\xa0\\xa0\\xa0\\xa0\\xa0一会儿老公出来了，走到我面前，用']}\n",
      "{'username': '喂妖妖零...', 'content': ['这个善逸我就不说了，来说说这个索隆怎么回事？樱沫??']}\n",
      "{'username': '馬路遙M...', 'content': ['我独自走在郊外的小路上']}\n",
      "{'username': 'Uniq...', 'content': ['小猫咪吃胖了会变成什么！会变成海豹的！！！']}\n",
      "{'username': '今天困困...', 'content': ['前NBA球员钱宁弗莱发推质问：“你们雷霆队员到底在干什么？到底在干什么？”这么多暂停就布置了个这？']}\n",
      "{'username': '带翅膀的...', 'content': ['一大爷拿卡去银行取1000元；营业员：大爷，3000元以下请到自动取款机上取。大爷：我不会用啊！营业员：3000元以下柜台不办理的。大爷好话说了半天营业员还是不']}\n",
      "{'username': '逗b聚乐...', 'content': ['是我没错了']}\n",
      "{'username': 'Vess...', 'content': ['如果生命只剩6分钟你会选择听什么歌？']}\n",
      "{'username': '哈哈搞笑...', 'content': ['练习蜻蜓点水']}\n",
      "{'username': '叶落泰然', 'content': ['我最帅，我最可爱！']}\n",
      "{'username': '汐汐汐汐...', 'content': ['太拼了，如果你遇到这样的滴滴师傅，会照顾一下他的生意吗？']}\n",
      "{'username': '放弃or...', 'content': ['老丈人退休后喜欢钓鱼，我买了一套20000多的渔具送给他。害怕他心疼钱，就说是200块钱买的。前几天老丈人用这渔具去钓鱼，每次都钓不到。为了面子，老丈人就去市场']}\n",
      "{'username': '逗b聚乐...', 'content': ['妹子怕电梯不结实，还用伞先试一试，很谨慎啊。']}\n",
      "{'username': '西南鱼塘...', 'content': ['客户来单位办业务，挺愉快的聊了大半个小时，我以为单子能成。结果她看着我的眼睛说了句：漂亮小姑娘说的话挺容易骗到人。我都不知道该不该反驳，要怎么反驳']}\n",
      "{'username': '镜端', 'content': ['真是亲闺女，太了解她爸了']}\n",
      "{'username': '你浪费我...', 'content': ['老师说：“你别像个蛆的在那乱拱行不。”我说：“我要是蛆的话我周边都是屎。”同桌妹子说：“那老师不就是苍蝇了，盯着屎转。”后面的同学：“苍蝇是蛆变的，你们一家人就']}\n",
      "{'username': '笑傲小姐...', 'content': ['这大概就叫优雅吧，请问第一口应该从哪开始？\\u200b']}\n",
      "{'username': '糗糗qu...', 'content': ['今天侄儿子生日，我们一家一起吃饭，办了个简单的生日派对，点蜡烛的时候，气氛很好，我哥趁机给侄儿子来了一场心平气和的教育，说他又大了一岁了，该好好学习了，不能再贪']}\n",
      "{'username': '--ZZ...', 'content': ['所以这个备注要不要执行?']}\n",
      "{'username': '小姐姐搞...', 'content': [\"莫斯科插画师AGud作品合集.L,I'ma\"]}\n",
      "{'username': '品如专用...', 'content': ['笑死我了表情包']}\n",
      "{'username': '保熟吗？', 'content': ['我们这儿要带头盔']}\n",
      "{'username': '醉青山', 'content': ['外国人少系列']}\n",
      "{'username': '名字太俊...', 'content': ['能不能续杯啊？']}\n",
      "{'username': '格滈泽', 'content': ['当代网友卑微追债，你们经历过没……']}\n",
      "{'username': '余生麻了...', 'content': ['我是人间四月天，你是榆林拼三鲜']}\n",
      "{'username': '老宋宋玉...', 'content': ['被人抢先发明的东西哈哈哈哈哈哈哈哈哈哈哈']}\n",
      "{'username': '倾心倾情...', 'content': ['老板走进我办公室对我说这个月给我多发2000块奖金，我:谢谢老板，为啥呢？老板被我问得哑口无言……']}\n",
      "{'username': 'jsgw...', 'content': ['？']}\n",
      "{'username': '漫画冯火', 'content': ['能受苦乃为志士，肯吃亏不是痴人，敬君子方显有德，怕小人不算无能。']}\n",
      "{'username': '丸丸丸子...', 'content': ['都这么现实的吗？']}\n",
      "{'username': '笑傲小姐...', 'content': ['这大概就叫优雅吧，请问第一口应该从哪开始？\\u200b']}\n",
      "{'username': 'HALO...', 'content': ['“我男朋友看的眼神中有爱意……”']}\n",
      "{'username': '你浪费我...', 'content': ['外卖老是迟到的原因找到了，原来外卖小哥在这里看起了热闹，不知如何是好？']}\n",
      "{'username': '肆虐的我...', 'content': ['还有类似的对子吗？']}\n",
      "{'username': '镜端', 'content': ['烫米勇尝重庆麻辣火锅，最终机智化难题']}\n",
      "{'username': '镜端', 'content': ['一定是特别的缘粪']}\n",
      "{'username': '一隻有強...', 'content': ['夫妻之间照顾付出都是互相的，我跟你在一起比我一个人的时候还累。那我图什么呢。图你有钱了会找小三儿，图你没钱了我要苦巴巴的过日子。']}\n",
      "{'username': '石锅拌着...', 'content': ['说个傻人有傻福的故事。有一发小人称莽哥，莽哥也有名字的，只因他莽出了境界，莽的有盐有味，莽的十里八乡都知道这个名字，故而再没人记得他本来叫什么。刚刚出生没多久父']}\n",
      "{'username': '逗b聚乐...', 'content': ['俄罗斯大哥教给你，野外遇到鳄鱼怎么办']}\n",
      "{'username': '蒙面超人...', 'content': ['当你单身很多年后']}\n",
      "{'username': '喝杯口加...', 'content': [':再生资源宣教中转中心:说人话:废品回收']}\n",
      "{'username': '暴走漫画', 'content': ['天天加班的我要求加薪，结果老板...']}\n",
      "{'username': '宁波火狐...', 'content': ['结果警方的不懈努力，走失小狗终于与朋友团聚']}\n",
      "{'username': '前慢', 'content': ['哈哈哈哈哈哈哈既然这么喜欢照顾小孩，那就去当月嫂吧！']}\n",
      "{'username': '东临～天...', 'content': ['形象的解释了“优柔寡断”的人的后果。']}\n",
      "{'username': '该用户被...', 'content': ['在给演员讲表演']}\n",
      "{'username': '正儿八经...', 'content': ['没看过蚂蚁脸的快来集合']}\n",
      "{'username': '骑着二哈...', 'content': ['不要想太多“小孩子才口无遮拦”“那大人呢？”“大人都想当小孩子”\\u200b\\u200b\\u200b']}\n",
      "{'username': '狐小乔', 'content': ['今天老妈因为家里洗发水摆放的位置又是一阵叨叨：从习惯上升到人品，从人品上升到为人处事听得我是一个头两个大，怒火压抑不住地蹭蹭往上窜，大声吼道:我……还没吼完，我']}\n",
      "{'username': '知-识-...', 'content': ['十、今天……']}\n",
      "{'username': '倾心倾情...', 'content': ['开车回老妈家，准备第二天走，可晚梦见两辆车相撞，爬出来好多怪物，早晨醒来听新闻说有台风，我想了下这兆势还是不走了，果不其然老妈开口说别走了，过两天再走……老爸:']}\n",
      "{'username': '窝里斗窝...', 'content': ['摩托的高光时刻']}\n",
      "{'username': '笑傲小姐...', 'content': ['你永远不知道沙雕网友下一刻会cos出什么[允悲]']}\n",
      "{'username': '郭柄彤', 'content': ['嗯，抓住根本了']}\n",
      "{'username': '快乐糗百...', 'content': ['以前跟闺蜜聊天，说了半天佩服我的傲人。看她瘦不拉几的，劝她，巧妇无作无米之炊，她也很赞同。可现在呢，我们绝交了，因为她体重上来了，更爷们了。']}\n",
      "{'username': '凌光粼粼', 'content': ['据说每个男孩子都被这样的聊天逼疯过搞笑']}\n",
      "{'username': '机智的猴...', 'content': ['刚开始的我，和被生活摧残后的我']}\n",
      "{'username': '璃白°', 'content': ['去自助餐厅吃饭，一定要注意吃的顺序，比如下面这款顺序，就能吃回本。先肉类，再水果，然后甜品，饮料不要喝了，记得重要的带上非常多的小塑料袋，洗手间做仓，用你的包包']}\n",
      "{'username': '零點糗事', 'content': ['这玩意有毒吧！']}\n",
      "{'username': '镜端', 'content': ['过生日送祝福，结婚送祝福，现在连分手他们也送祝福了']}\n",
      "{'username': 'Skt1...', 'content': ['当你偷偷亲到了你喜欢的人的时候，瞧那得瑟样～']}\n",
      "{'username': '吾乃敞衫...', 'content': ['有一次去欢乐谷玩，和一个妹子。中午喝了点酒，然后去坐大摆锤。。。你造吗？当时妹子被转晕了，这不都重点，重点妹子吐了。你能想象大摆锤一直360旋转，妹子一直呕吐不']}\n",
      "{'username': '小恐龙骑...', 'content': ['原地起跳完成扣篮！这特么是能下蛋的公鸡吧']}\n",
      "{'username': '1912...', 'content': ['四岁的儿子问他爸:为什么人家爸爸的胡子长脸上，他的胡子长腿上胖子说他就这个问题很苦恼']}\n",
      "{'username': 'hist...', 'content': ['昨天奔驰最大的争议吧。有人说不够气派，可我决定先追随再理解']}\n",
      "{'username': '他们叫我...', 'content': ['这个问题我该怎么劝呢？？？']}\n",
      "{'username': '他们叫我...', 'content': ['爸妈才是真爱，孩子只是意外']}\n",
      "{'username': '狐小乔', 'content': ['老爸和老妈吵架了，两个人冷战。作为家里的贴心小棉袄外加开心果，我义不容辞的承担了缓解家庭矛盾的责任。我蹭到老妈旁边，乖巧地说:“妈，以后我不结婚，就养条狗，孝敬']}\n",
      "{'username': '程投意合...', 'content': ['盘点NBA的9大过人得分动图！你觉得谁家的过人方式最牛逼？']}\n",
      "{'username': 'mmz啊', 'content': ['小时候，有人问问“跌”怎么读，我用方言说了一声“dia”，后来他就不理我了']}\n"
     ]
    },
    {
     "name": "stdout",
     "output_type": "stream",
     "text": [
      "{'username': 'hist...', 'content': ['昨天奔驰最大的争议吧。有人说不够气派，可我决定先追随再理解']}\n",
      "{'username': '少时人间...', 'content': ['请问在哪里能买到您的名著呢？']}\n",
      "{'username': 'Zyqq...', 'content': ['打不到！诶诶～打～不～到～']}\n",
      "{'username': '勇敢的坚...', 'content': ['换我炒菜了']}\n",
      "{'username': '缘来～是...', 'content': ['脑瓜子嗡嗡的吧？']}\n",
      "{'username': '昕庭～', 'content': ['睡前小故事：气息“哎呀，怎么没用啊！”女孩双手掐着法诀，不停的抵挡着妖怪的攻击，但从前无往不利的术式打在妖怪身上竟然不痛不痒，没一会儿，女孩竟然已被逼入了绝境。']}\n",
      "{'username': '禹扬木美', 'content': ['有一程序员在网上晒出了与领导吃饭时的照片。']}\n",
      "{'username': '机智的猴...', 'content': ['刚开始的我，和被生活摧残后的我']}\n",
      "{'username': '宋单单9...', 'content': ['口袋里的小狗。']}\n",
      "{'username': '这个和尚...', 'content': ['两全其美的好办法']}\n",
      "{'username': '小妞我是...', 'content': ['莺哥晒新造型～可与杜姓模版绝代双骄一帅否']}\n",
      "{'username': '凯德无', 'content': ['消化不了只能辞职']}\n",
      "耗时：1.0014338493347168\n"
     ]
    }
   ],
   "source": [
    "import requests\n",
    "from lxml import etree\n",
    "import time\n",
    "\n",
    "\n",
    "class QiuBai():\n",
    "    def __init__(self):\n",
    "        self.tmp_url = 'https://www.qiushibaike.com/8hr/page/{}/'\n",
    "        self.headers = {\n",
    "            'User-Agent': 'Mozilla/5.0 (Windows NT 10.0; Win64; x64) AppleWebKit/537.36 (KHTML, like Gecko) Chrome/84.0.4147.89 Safari/537.36'\n",
    "        }\n",
    "    \"\"\"准备url地址的列表\"\"\"\n",
    "    def get_url_list(self):\n",
    "        return [self.tmp_url.format(i) for i in range(1,14)]\n",
    "    \"\"\"发送请求 获取响应\"\"\"\n",
    "    def parse_url(self, url):\n",
    "        res = requests.get(url, headers=self.headers)\n",
    "        return res.content.decode()\n",
    "    \"\"\"提取数据\"\"\"\n",
    "    def get_content(self, htmlstr):\n",
    "        html = etree.HTML(htmlstr)\n",
    "        lilist = html.xpath('//*[@id=\"content\"]/div/div[2]/div/ul/li')\n",
    "        contentlist = []\n",
    "        for li in lilist:\n",
    "            item = {}\n",
    "            item['username'] = li.xpath('./div/div/a/span/text()')[0].strip()\n",
    "            item['content'] = li.xpath('./div/a/text()')\n",
    "            contentlist.append(item)\n",
    "        return contentlist\n",
    "    \"\"\"保存数据\"\"\"\n",
    "    def save_content(self, contentlist):\n",
    "        for content in contentlist:\n",
    "            print(content)\n",
    "    \"\"\"爬虫的主要逻辑\"\"\"\n",
    "    def run(self):\n",
    "        # 1 准备URL列表\n",
    "        urllist = self.get_url_list()\n",
    "        # 2 遍历URLlist 发送请求 获取响应 \n",
    "        for url in urllist:\n",
    "            htmlstr = self.parse_url(url)\n",
    "            # 3 提取数据\n",
    "            contentlist = self.get_content(htmlstr)\n",
    "            # 4 保存\n",
    "            self.save_content(contentlist)\n",
    "\n",
    "if __name__== '__main__':\n",
    "    start = time.time()\n",
    "    qiubai = QiuBai()\n",
    "    qiubai.run()\n",
    "    print(f\"耗时：{time.time()-start}\")"
   ]
  },
  {
   "cell_type": "markdown",
   "metadata": {
    "slideshow": {
     "slide_type": "slide"
    }
   },
   "source": [
    "#### 多线程爬虫实现"
   ]
  },
  {
   "cell_type": "markdown",
   "metadata": {
    "slideshow": {
     "slide_type": "slide"
    }
   },
   "source": [
    "##### 多线程的方法使用\n",
    "- 在python3中，主线程主进程结束，子线程，子进程不会结束\n",
    "- 为了能够让主线程回收子线程，可以把子线程设置为守护线程，即该线程不重要，主线程结束，子线程结束\n",
    "```\n",
    "t1 = threading.Thread(targe=func,args=(,))\n",
    "t1.setDaemon(True) # 设置为守护线程\n",
    "t1.start() #此时线程才会启动\n",
    "```"
   ]
  },
  {
   "cell_type": "markdown",
   "metadata": {
    "slideshow": {
     "slide_type": "slide"
    }
   },
   "source": [
    "##### 队列模块的使用\n",
    "```\n",
    "from queue import Queue\n",
    "q = Queue(maxsize=100)  # maxsize为队列长度\n",
    "item = {}\n",
    "q.put_nowait(item)  # 不等待直接放，队列满的时候会报错\n",
    "q.put(item)  # 放入数据，队列满的时候会阻塞等待\n",
    "q.get_nowait()  # 不等待直接取，队列空的时候会报错\n",
    "q.get()  # 取出数据，队列为空的时候会阻塞等待\n",
    "q.qsize()  # 获取队列中现存数据的个数\n",
    "q.join()  # 队列中维持了一个计数(初始为0)，计数不为0时候让主线程阻塞等待，队列计数为0的时候才会继续往后执行\n",
    "            # q.join()实际作用就是阻塞主线程，与task_done()配合使用\n",
    "            # put()操作会让计数+1，task_done()会让计数-1\n",
    "            # 计数为0，才停止阻塞，让主线程继续执行\n",
    "q.task_done()  # put的时候计数+1，get不会-1，get需要和task_done 一起使用才会-1\n",
    "```"
   ]
  },
  {
   "cell_type": "markdown",
   "metadata": {
    "slideshow": {
     "slide_type": "slide"
    }
   },
   "source": [
    "##### 多线程实现思路剖析\n",
    "- 把爬虫中的每个步骤封装成函数，分别用线程去执行\n",
    "- 不同的函数通过队列相互通信，函数间解耦"
   ]
  },
  {
   "cell_type": "markdown",
   "metadata": {
    "ExecuteTime": {
     "end_time": "2020-12-10T07:23:27.385210Z",
     "start_time": "2020-12-10T07:23:27.381942Z"
    },
    "slideshow": {
     "slide_type": "fragment"
    }
   },
   "source": [
    "<img src=\"http://39.106.195.80:8888/group1/M00/00/00/wKgCa1_RzOKAU4BJAANe2BQKxJ8507.png\" width=90%>"
   ]
  },
  {
   "cell_type": "code",
   "execution_count": 25,
   "metadata": {
    "scrolled": true,
    "slideshow": {
     "slide_type": "slide"
    }
   },
   "outputs": [
    {
     "name": "stdout",
     "output_type": "stream",
     "text": [
      "{'username': '小猴子(...', 'content': ['爆笑萌娃，这表情简直太魔性了']}\n",
      "{'username': '白玉无尘', 'content': ['闺蜜那些扎心的话']}\n",
      "{'username': '知-识-...', 'content': ['八、前几……']}\n",
      "{'username': '满天繁星...', 'content': ['说个我高中时候的事，我们文科，男少女多，我们小组只有两个男生，每次打扫卫生什么重活那小子都指着我干，不动手，感觉自己很帅似的。说好我俩涮洗，女生拖地，我把两个拖']}\n",
      "{'username': '凯枫的围...', 'content': ['？？？']}\n",
      "{'username': '带翅膀的...', 'content': ['正在超市闲逛，忽然听到超市里的广播喊到:请张家林的家长马上到前台来认领你的孩子！消息一出，只见一对年轻的夫妇急冲冲地往前台赶，想必那是他们的孩子。忽然，那女拉住']}\n",
      "{'username': '少爷杨姐...', 'content': ['面粉：你有事吗？']}\n",
      "{'username': '梦dem...', 'content': ['啊？原来是——']}\n",
      "{'username': '今天困困...', 'content': ['如何避免下快攻时被詹姆斯追帽？请参考图二，可以说是教科书般了！']}\n",
      "{'username': '九头纪', 'content': ['某日，俺们初中的语文老师站在讲台上拿着点名册突然对俺们说：“你们班的姓氏好丰盛啊！”俺们：“啥？”老师：“有米(芈)有饭（范）有菜（蔡）有盐(严)有糖(唐)有粥']}\n",
      "{'username': '笑傲小姐...', 'content': ['男孩和网恋半年的女友奔现后，自己的胳膊都快被咬成五环了……']}\n",
      "{'username': '土豆se...', 'content': ['这个笑死我了，保罗因为系鞋带时间过久吃T']}\n",
      "{'username': '带翅膀的...', 'content': ['一大爷拿卡去银行取1000元；营业员：大爷，3000元以下请到自动取款机上取。大爷：我不会用啊！营业员：3000元以下柜台不办理的。大爷好话说了半天营业员还是不']}\n",
      "{'username': '哇伊伊', 'content': ['一顿操作猛如虎，一看工资两千五']}\n",
      "{'username': '白玉无尘', 'content': ['嫂子回娘家了，好无聊啊']}\n",
      "{'username': '爱运动的...', 'content': ['皮尔斯更推：我看好掘金拿下抢七?????????我敢赌上我的房子！']}\n",
      "{'username': '18cc...', 'content': ['假如生活欺騙了你，不要急，後面還有很多被騙的時候']}\n",
      "{'username': '运城王菲', 'content': ['玩游戏时候遇到的，哈哈哈哈哈哈哈哈哈哈哈哈哈哈哈哈哈哈哈哈哈哈哈这个刘阿斗太可爱了！']}\n",
      "{'username': '飞漠刀影...', 'content': ['昨晚照常加完班回家，有一段路是没有路灯的，突然听见一个熟悉的声音说你先起来，哎呀……是我爸的声音，然后有个陌生的女声在嚷，哎呀你先别动，让我先动什么的。卧槽？大']}\n",
      "{'username': '初めまし...', 'content': ['粗鄙之语，哈哈哈']}\n",
      "{'username': 'Q小飞', 'content': ['天上挂着一只大猪蹄子！']}\n",
      "{'username': '而是共同...', 'content': ['搬砖日记！']}\n",
      "{'username': '狐小乔', 'content': ['老爸和老妈吵架了，两个人冷战。作为家里的贴心小棉袄外加开心果，我义不容辞的承担了缓解家庭矛盾的责任。我蹭到老妈旁边，乖巧地说:“妈，以后我不结婚，就养条狗，孝敬']}\n",
      "{'username': 'Kaha...', 'content': ['原谅我不厚道得笑了']}\n",
      "{'username': '林天宏l...', 'content': ['被这个画面莫名戳到了~']}\n",
      "{'username': '幼稚老阿...', 'content': ['帮我朋友问的，一个女的因为丑，找不到男朋友，那我该，不是，那我朋友该怎么办']}\n",
      "{'username': '可口可乐...', 'content': ['问君能有几多愁，恰似饭桌卡狗头']}\n",
      "{'username': 'Cc_喵...', 'content': ['这手刹，给力']}\n",
      "{'username': '前路漫漫...', 'content': ['吃过这玩意的扣丨，能叫出这东西名字的都是一楼的爸爸']}\n",
      "{'username': '悲伤的挪...', 'content': ['在前东家工作因为工作强度大落下偏头痛和神经衰弱的毛病，今年由于某些原因换了东家，但是毛病并没有好，于是在一个项目结束后就提出了长假申请去治病，最多批十天，后经高']}\n",
      "{'username': '郭柄彤', 'content': ['嗯，抓住根本了']}\n",
      "{'username': '爆笑大蒜...', 'content': ['小舅子专科毕业，找了一个研究生毕业的老婆。每次吵架的时候，小舅子都吵不过老婆。昨天，老婆办了件蠢事，小舅子大骂：你真没脑子！谁知他老婆说：我虽然没脑子，但我找了']}\n",
      "{'username': '窝里斗窝...', 'content': ['今天我太开心了']}\n",
      "{'username': '你浪费我...', 'content': ['老师说：“你别像个蛆的在那乱拱行不。”我说：“我要是蛆的话我周边都是屎。”同桌妹子说：“那老师不就是苍蝇了，盯着屎转。”后面的同学：“苍蝇是蛆变的，你们一家人就']}\n",
      "{'username': '珠峰山人', 'content': ['像我这种用量，我觉得我没错']}\n",
      "{'username': '深圳游泳...', 'content': ['虽然好弱智，可是好想玩哈哈哈哈哈哈']}\n",
      "{'username': '落日京华', 'content': ['新买了体重计回家，老妈看到后就迫不及待地踩上去称体重，称的时候我看她在那用力地收肚子…于是没忍住就笑着说“老妈啊，称体重不是量腰围，你就是收肚子体重也不会减少啊']}\n",
      "{'username': '太平老男...', 'content': ['看了这双脱鞋，你有什么想法？我就不告诉你们，这就是月薪7000，结婚返贫那哥们儿坚持穿了一年多的！你还敢结婚吗？']}\n",
      "{'username': '朱酆', 'content': ['练铁头功的集合']}\n",
      "{'username': 'This...', 'content': ['走骗子的路让骗子无路可走']}\n",
      "{'username': '麦兜叮当...', 'content': ['你身边有自带体香的人吗？']}\n",
      "{'username': '左手食指...', 'content': ['某日，封闭开发小黑屋中几个男女程序员。一大姐突然说，“xxx那个死人去哪里了，说好的东西还不上交？”我悠悠说到，“你知道人和鬼的区别是什么嘛？”大姐茫然，“你把']}\n",
      "{'username': '喵喵爱苗...', 'content': ['？？？']}\n",
      "{'username': '笑傲小姐...', 'content': ['你永远不知道沙雕网友下一刻会cos出什么[允悲]']}\n",
      "{'username': '磁宇直', 'content': ['它在自己的小枕头上睡得特别香，摊成一坨泥']}\n",
      "{'username': '杰出青年...', 'content': ['虎虎长得是丑了点，但是气质不输任何狗']}\n",
      "{'username': '糗百精华...', 'content': ['作为一名老司机，这个弯差点就没转过来！']}\n",
      "{'username': '双子马星...', 'content': ['和不太熟的人一起吃饭时你的思想活动']}\n",
      "{'username': '仨娣', 'content': ['在这所学校，遇见校长，你可能不认识。提起教导主任，你或许没见过。但是若说到二哥的名字，那你一定听过！\\xa0\\xa0\\xa0\\xa0今天二哥人已不在江湖，但是江湖上全是他的传说。你可能']}\n",
      "{'username': 'This...', 'content': ['走骗子的路让骗子无路可走']}\n",
      "{'username': '蒙面超人...', 'content': ['没有白吃的猫粮']}\n",
      "{'username': 'BOO只...', 'content': ['看到这些小脑袋就想撸秃它们！我是不是没救了']}\n",
      "{'username': '龙麟豸', 'content': ['🌟外果仁']}\n",
      "{'username': '大妈夸我...', 'content': ['万能的糗友，啥意思？']}\n",
      "{'username': 'xgy3...', 'content': ['这是仙人什么']}\n",
      "{'username': '耍流氓是...', 'content': ['没有口号……']}\n",
      "{'username': 'HALO...', 'content': ['老婆还有一个月就生了，我姓“滕”，求网友们给娃想个名字']}\n",
      "{'username': '笑傲小姐...', 'content': ['男孩和网恋半年的女友奔现后，自己的胳膊都快被咬成五环了……']}\n",
      "{'username': '镜端', 'content': ['小时候学英语我们都是用中文标读音学的，想问问大家是怎么学的？']}\n",
      "{'username': '糗友Wk...', 'content': ['新款路虎发现神行白色很不错的Suv']}\n",
      "{'username': '521黑...', 'content': []}\n",
      "{'username': '鲁智深暴...', 'content': ['如果让你用一个人名就能证明你是哪里人？你会用谁？我先来，东方朔。']}\n",
      "{'username': '今天困困...', 'content': ['这也就欧文了……詹姆斯：这换一般人，都是去你的篮球梦了！']}\n",
      "{'username': 'PROX...', 'content': ['记得当时泰坦尼克号出发的时候，我拼尽全力失声呐喊：不要启航！但是没有人听我的，还骂我，最后我被电影院的保安架了出去。']}\n",
      "{'username': '咦手艺人...', 'content': ['我站在超市门口等我妈，忽然看到旁边的小桌板上有个测温枪。鬼使神差地拿起来给自己测了一下，36.8。这时候忽然有人进来超市，看到我手里拿着测温枪，就把手伸给我。我']}\n",
      "{'username': '暴躁的小...', 'content': ['哈哈哈哈哈哈哈哈哈哈哈哈这是保送食堂是嘛？']}\n",
      "{'username': '一枕清霜', 'content': ['跟爸爸在一起的快乐']}\n",
      "{'username': '撩汉大婶', 'content': ['祝大家中元节平安']}\n",
      "{'username': '老朽可不...', 'content': ['终于开工资了[捂嘴]']}\n",
      "{'username': '璃白°', 'content': ['去自助餐厅吃饭，一定要注意吃的顺序，比如下面这款顺序，就能吃回本。先肉类，再水果，然后甜品，饮料不要喝了，记得重要的带上非常多的小塑料袋，洗手间做仓，用你的包包']}\n",
      "{'username': '__李佳...', 'content': ['吃美食听音乐打游戏都感觉不到快乐，做什么事都毫无乐趣……这可能是一种叫做“快感缺乏症”的心理疾病……']}\n",
      "{'username': '倾心倾情...', 'content': ['喜欢吃螺蛳粉，在家里二货不让吃说太臭了，带到公司吧全是味儿，最近公司楼道刷油漆，那味道熏得人头疼，我觉得是吃螺蛳粉得好时机！']}\n",
      "{'username': '缘来～是...', 'content': ['每天一个单身小技巧，你学废了吗！']}\n",
      "{'username': '番茄打西...', 'content': ['南瓜鸭子像不像']}\n",
      "{'username': '沧海天涯...', 'content': ['我想到了这一天早晚会到来，但我没想到这一天来的这么快']}\n",
      "{'username': '当年越远', 'content': ['做了九年的家庭主妇第一次碰到这种事情']}\n",
      "{'username': '异芌', 'content': ['珍珠的内心戏可真多']}\n",
      "{'username': 'miss...', 'content': ['这是鱼里面掺了水吧！']}\n",
      "{'username': '【草原狼...', 'content': ['兄弟！请满饮此杯！']}\n",
      "{'username': '糗友gK...', 'content': ['我老公去拉屎了，然后给我发微信说头疼。我说你拉屎把脑子拉出去了吗']}\n",
      "{'username': '朱喵喵喵...', 'content': ['埼玉县儿童动物自然公园最近两只顽皮的小可爱']}\n",
      "{'username': '幼稚老阿...', 'content': ['找个好朋友你喜欢什么我给你买但是超过三块钱的就算了我不喜欢物质的人']}\n",
      "{'username': '留恋那抹...', 'content': ['你怎么也想不到外卖小哥是歪果仁吧！😂']}\n",
      "{'username': '情绪绪～', 'content': ['吓着人没？？']}\n",
      "{'username': '沧海天涯...', 'content': ['接吻时发现对方有口臭怎么办？']}\n",
      "{'username': '铁柱铁', 'content': ['李察也太可爱了吧！迫不及待给他做了表情包']}\n",
      "{'username': '优野森林', 'content': ['店家老板：客户就是上帝，狠狠地满足你！！！']}\n",
      "{'username': '哈哈搞笑...', 'content': ['为了以后不挨揍，没少下功夫']}\n",
      "{'username': '活着是种...', 'content': ['说出来你们可能不信～我在公交车上闯了个红灯']}\n",
      "{'username': '窝里斗窝...', 'content': ['一家人嘛！要整整齐齐的']}\n",
      "{'username': 'Enlv...', 'content': ['第一次用电动牙刷也是遇到同样的情况。']}\n",
      "主线程结束\n",
      "耗时：0.3485126495361328\n"
     ]
    }
   ],
   "source": [
    "import requests\n",
    "from lxml import etree\n",
    "import time\n",
    "from queue import Queue\n",
    "import threading\n",
    "\n",
    "\n",
    "class MTQiuBai():\n",
    "    def __init__(self):\n",
    "        self.tmp_url = 'https://www.qiushibaike.com/8hr/page/{}/'\n",
    "        self.headers = {\n",
    "            'User-Agent': 'Mozilla/5.0 (Windows NT 10.0; Win64; x64) AppleWebKit/537.36 (KHTML, like Gecko) Chrome/84.0.4147.89 Safari/537.36'\n",
    "        }\n",
    "        self.url_queue = Queue()\n",
    "        self.html_queue = Queue()\n",
    "        self.contentlist_queue = Queue()\n",
    "    \"\"\"准备url地址的列表\"\"\"\n",
    "\n",
    "    def get_url_list(self):\n",
    "        for i in range(1, 14):\n",
    "            self.url_queue.put(self.tmp_url.format(i))\n",
    "\n",
    "    \"\"\"发送请求 获取响应\"\"\"\n",
    "\n",
    "    def parse_url(self):\n",
    "        while True:\n",
    "            url = self.url_queue.get()\n",
    "            res = requests.get(url, headers=self.headers)\n",
    "            self.html_queue.put(res.content.decode())\n",
    "            self.url_queue.task_done()\n",
    "\n",
    "    \"\"\"提取数据\"\"\"\n",
    "\n",
    "    def get_content(self):\n",
    "        while True:\n",
    "            htmlstr = self.html_queue.get()\n",
    "            html = etree.HTML(htmlstr)\n",
    "            lilist = html.xpath('//*[@id=\"content\"]/div/div[2]/div/ul/li')\n",
    "            contentlist = []\n",
    "            for li in lilist:\n",
    "                item = {}\n",
    "                item['username'] = li.xpath('./div/div/a/span/text()')[0].strip()\n",
    "                item['content'] = li.xpath('./div/a/text()')\n",
    "                contentlist.append(item)\n",
    "            self.contentlist_queue.put(contentlist)\n",
    "            self.html_queue.task_done()\n",
    "\n",
    "    \"\"\"保存数据\"\"\"\n",
    "\n",
    "    def save_content(self):\n",
    "        while True:\n",
    "            contentlist = self.contentlist_queue.get()\n",
    "            for content in contentlist:\n",
    "                print(content)  # 做一个数据保存操作\n",
    "            self.contentlist_queue.task_done()\n",
    "    \"\"\"爬虫的主要逻辑\"\"\"\n",
    "\n",
    "    def run(self):\n",
    "        thread_list = []\n",
    "        # 1 准备URL列表\n",
    "        t_url = threading.Thread(target=self.get_url_list)\n",
    "        thread_list.append(t_url)\n",
    "\n",
    "        # 2 遍历URLlist 发送请求 获取响应\n",
    "        for i in range(3):  # 3个线程发送请求\n",
    "            t_parse = threading.Thread(target=self.parse_url)\n",
    "            thread_list.append(t_parse)\n",
    "\n",
    "        t_content = threading.Thread(target=self.get_content)\n",
    "        thread_list.append(t_content)\n",
    "\n",
    "        t_save = threading.Thread(target=self.save_content)\n",
    "        thread_list.append(t_save)\n",
    "\n",
    "        for i in thread_list:\n",
    "            i.setDaemon(True)  # 把子线程设置为守护线程\n",
    "            i.start()\n",
    "\n",
    "        for q in [self.url_queue, self.html_queue, self.contentlist_queue]:\n",
    "            q.join()  # 让主线程阻塞， 等待队列的计数为0\n",
    "        print('主线程结束')\n",
    "\n",
    "\n",
    "if __name__ == '__main__':\n",
    "    start = time.time()\n",
    "    mtqiubai = MTQiuBai()\n",
    "    mtqiubai.run()\n",
    "    print(f\"耗时：{time.time()-start}\")"
   ]
  },
  {
   "cell_type": "markdown",
   "metadata": {
    "slideshow": {
     "slide_type": "slide"
    }
   },
   "source": [
    "注意点：\n",
    "put会让队列的计数+1，但是单纯的使用get不会让其-1，需要和task_done同时使用才能够-1\n",
    "task_done不能放在另一个队列的put之前，否则可能会出现数据没有处理完成，程序结束的情况"
   ]
  },
  {
   "cell_type": "markdown",
   "metadata": {
    "slideshow": {
     "slide_type": "slide"
    }
   },
   "source": [
    "#### 多进程爬虫实现"
   ]
  },
  {
   "cell_type": "markdown",
   "metadata": {
    "slideshow": {
     "slide_type": "slide"
    }
   },
   "source": [
    "##### 多进程程的方法使用\n",
    "```\n",
    "from multiprocessing import Process  # 导入模块\n",
    "t1 = Process(targe=func, args=(,))  # 使用一个进程来执行一个函数\n",
    "t1.daemon = True  # 设置为守护进程\n",
    "t1.start()  # 此时线程才会启动\n",
    "```\n",
    "##### 多进程中队列的使用\n",
    "- 多进程中使用普通的队列模块会发生阻塞，对应的需要使用multiprocessing提供的JoinableQueue模块，其使用过程和在线程中使用的queue方法相同"
   ]
  },
  {
   "cell_type": "code",
   "execution_count": 26,
   "metadata": {
    "slideshow": {
     "slide_type": "slide"
    }
   },
   "outputs": [
    {
     "name": "stdout",
     "output_type": "stream",
     "text": [
      "{'user_name': '哇伊伊', 'content': ['一顿操作猛如虎，一看工资两千五']}\n",
      "{'user_name': '白玉无尘', 'content': ['嫂子回娘家了，好无聊啊']}\n",
      "{'user_name': '爱运动的...', 'content': ['皮尔斯更推：我看好掘金拿下抢七?????????我敢赌上我的房子！']}\n",
      "{'user_name': '18cc...', 'content': ['假如生活欺騙了你，不要急，後面還有很多被騙的時候']}\n",
      "{'user_name': '运城王菲', 'content': ['玩游戏时候遇到的，哈哈哈哈哈哈哈哈哈哈哈哈哈哈哈哈哈哈哈哈哈哈哈这个刘阿斗太可爱了！']}\n",
      "{'user_name': '飞漠刀影...', 'content': ['昨晚照常加完班回家，有一段路是没有路灯的，突然听见一个熟悉的声音说你先起来，哎呀……是我爸的声音，然后有个陌生的女声在嚷，哎呀你先别动，让我先动什么的。卧槽？大']}\n",
      "{'user_name': '初めまし...', 'content': ['粗鄙之语，哈哈哈']}\n",
      "{'user_name': 'Q小飞', 'content': ['天上挂着一只大猪蹄子！']}\n",
      "{'user_name': '而是共同...', 'content': ['搬砖日记！']}\n",
      "{'user_name': '狐小乔', 'content': ['老爸和老妈吵架了，两个人冷战。作为家里的贴心小棉袄外加开心果，我义不容辞的承担了缓解家庭矛盾的责任。我蹭到老妈旁边，乖巧地说:“妈，以后我不结婚，就养条狗，孝敬']}\n",
      "{'user_name': 'Kaha...', 'content': ['原谅我不厚道得笑了']}\n",
      "{'user_name': '林天宏l...', 'content': ['被这个画面莫名戳到了~']}\n",
      "{'user_name': '幼稚老阿...', 'content': ['帮我朋友问的，一个女的因为丑，找不到男朋友，那我该，不是，那我朋友该怎么办']}\n",
      "{'user_name': '可口可乐...', 'content': ['问君能有几多愁，恰似饭桌卡狗头']}\n",
      "{'user_name': 'Cc_喵...', 'content': ['这手刹，给力']}\n",
      "{'user_name': '前路漫漫...', 'content': ['吃过这玩意的扣丨，能叫出这东西名字的都是一楼的爸爸']}\n",
      "{'user_name': '悲伤的挪...', 'content': ['在前东家工作因为工作强度大落下偏头痛和神经衰弱的毛病，今年由于某些原因换了东家，但是毛病并没有好，于是在一个项目结束后就提出了长假申请去治病，最多批十天，后经高']}\n",
      "{'user_name': '郭柄彤', 'content': ['嗯，抓住根本了']}\n",
      "{'user_name': '爆笑大蒜...', 'content': ['小舅子专科毕业，找了一个研究生毕业的老婆。每次吵架的时候，小舅子都吵不过老婆。昨天，老婆办了件蠢事，小舅子大骂：你真没脑子！谁知他老婆说：我虽然没脑子，但我找了']}\n",
      "{'user_name': '窝里斗窝...', 'content': ['今天我太开心了']}\n",
      "{'user_name': '你浪费我...', 'content': ['老师说：“你别像个蛆的在那乱拱行不。”我说：“我要是蛆的话我周边都是屎。”同桌妹子说：“那老师不就是苍蝇了，盯着屎转。”后面的同学：“苍蝇是蛆变的，你们一家人就']}\n",
      "{'user_name': '珠峰山人', 'content': ['像我这种用量，我觉得我没错']}\n",
      "{'user_name': '深圳游泳...', 'content': ['虽然好弱智，可是好想玩哈哈哈哈哈哈']}\n",
      "{'user_name': '落日京华', 'content': ['新买了体重计回家，老妈看到后就迫不及待地踩上去称体重，称的时候我看她在那用力地收肚子…于是没忍住就笑着说“老妈啊，称体重不是量腰围，你就是收肚子体重也不会减少啊']}\n",
      "{'user_name': '太平老男...', 'content': ['看了这双脱鞋，你有什么想法？我就不告诉你们，这就是月薪7000，结婚返贫那哥们儿坚持穿了一年多的！你还敢结婚吗？']}\n",
      "{'user_name': '朱酆', 'content': ['练铁头功的集合']}\n",
      "{'user_name': 'This...', 'content': ['走骗子的路让骗子无路可走']}\n",
      "{'user_name': '麦兜叮当...', 'content': ['你身边有自带体香的人吗？']}\n",
      "{'user_name': '左手食指...', 'content': ['某日，封闭开发小黑屋中几个男女程序员。一大姐突然说，“xxx那个死人去哪里了，说好的东西还不上交？”我悠悠说到，“你知道人和鬼的区别是什么嘛？”大姐茫然，“你把']}\n",
      "{'user_name': '喵喵爱苗...', 'content': ['？？？']}\n",
      "{'user_name': '笑傲小姐...', 'content': ['你永远不知道沙雕网友下一刻会cos出什么[允悲]']}\n",
      "{'user_name': '磁宇直', 'content': ['它在自己的小枕头上睡得特别香，摊成一坨泥']}\n",
      "{'user_name': '小猴子(...', 'content': ['爆笑萌娃，这表情简直太魔性了']}\n",
      "{'user_name': '白玉无尘', 'content': ['闺蜜那些扎心的话']}\n",
      "{'user_name': '知-识-...', 'content': ['八、前几……']}\n",
      "{'user_name': '满天繁星...', 'content': ['说个我高中时候的事，我们文科，男少女多，我们小组只有两个男生，每次打扫卫生什么重活那小子都指着我干，不动手，感觉自己很帅似的。说好我俩涮洗，女生拖地，我把两个拖']}\n",
      "{'user_name': '凯枫的围...', 'content': ['？？？']}\n",
      "{'user_name': '带翅膀的...', 'content': ['正在超市闲逛，忽然听到超市里的广播喊到:请张家林的家长马上到前台来认领你的孩子！消息一出，只见一对年轻的夫妇急冲冲地往前台赶，想必那是他们的孩子。忽然，那女拉住']}\n",
      "{'user_name': '少爷杨姐...', 'content': ['面粉：你有事吗？']}\n",
      "{'user_name': '梦dem...', 'content': ['啊？原来是——']}\n",
      "{'user_name': '今天困困...', 'content': ['如何避免下快攻时被詹姆斯追帽？请参考图二，可以说是教科书般了！']}\n",
      "{'user_name': '九头纪', 'content': ['某日，俺们初中的语文老师站在讲台上拿着点名册突然对俺们说：“你们班的姓氏好丰盛啊！”俺们：“啥？”老师：“有米(芈)有饭（范）有菜（蔡）有盐(严)有糖(唐)有粥']}\n",
      "{'user_name': '笑傲小姐...', 'content': ['男孩和网恋半年的女友奔现后，自己的胳膊都快被咬成五环了……']}\n",
      "{'user_name': '土豆se...', 'content': ['这个笑死我了，保罗因为系鞋带时间过久吃T']}\n",
      "{'user_name': '带翅膀的...', 'content': ['一大爷拿卡去银行取1000元；营业员：大爷，3000元以下请到自动取款机上取。大爷：我不会用啊！营业员：3000元以下柜台不办理的。大爷好话说了半天营业员还是不']}\n",
      "{'user_name': '杰出青年...', 'content': ['虎虎长得是丑了点，但是气质不输任何狗']}\n",
      "{'user_name': '糗百精华...', 'content': ['作为一名老司机，这个弯差点就没转过来！']}\n",
      "{'user_name': '双子马星...', 'content': ['和不太熟的人一起吃饭时你的思想活动']}\n",
      "{'user_name': '仨娣', 'content': ['在这所学校，遇见校长，你可能不认识。提起教导主任，你或许没见过。但是若说到二哥的名字，那你一定听过！\\xa0\\xa0\\xa0\\xa0今天二哥人已不在江湖，但是江湖上全是他的传说。你可能']}\n",
      "{'user_name': 'This...', 'content': ['走骗子的路让骗子无路可走']}\n",
      "{'user_name': '蒙面超人...', 'content': ['没有白吃的猫粮']}\n",
      "{'user_name': 'BOO只...', 'content': ['看到这些小脑袋就想撸秃它们！我是不是没救了']}\n",
      "{'user_name': '龙麟豸', 'content': ['🌟外果仁']}\n",
      "{'user_name': '大妈夸我...', 'content': ['万能的糗友，啥意思？']}\n",
      "{'user_name': 'xgy3...', 'content': ['这是仙人什么']}\n",
      "{'user_name': '耍流氓是...', 'content': ['没有口号……']}\n",
      "{'user_name': 'HALO...', 'content': ['老婆还有一个月就生了，我姓“滕”，求网友们给娃想个名字']}\n",
      "{'user_name': '笑傲小姐...', 'content': ['男孩和网恋半年的女友奔现后，自己的胳膊都快被咬成五环了……']}\n",
      "{'user_name': '一枕清霜', 'content': ['跟爸爸在一起的快乐']}\n",
      "{'user_name': '撩汉大婶', 'content': ['祝大家中元节平安']}\n",
      "{'user_name': '老朽可不...', 'content': ['终于开工资了[捂嘴]']}\n",
      "{'user_name': '璃白°', 'content': ['去自助餐厅吃饭，一定要注意吃的顺序，比如下面这款顺序，就能吃回本。先肉类，再水果，然后甜品，饮料不要喝了，记得重要的带上非常多的小塑料袋，洗手间做仓，用你的包包']}\n",
      "{'user_name': '__李佳...', 'content': ['吃美食听音乐打游戏都感觉不到快乐，做什么事都毫无乐趣……这可能是一种叫做“快感缺乏症”的心理疾病……']}\n",
      "{'user_name': '倾心倾情...', 'content': ['喜欢吃螺蛳粉，在家里二货不让吃说太臭了，带到公司吧全是味儿，最近公司楼道刷油漆，那味道熏得人头疼，我觉得是吃螺蛳粉得好时机！']}\n",
      "{'user_name': '缘来～是...', 'content': ['每天一个单身小技巧，你学废了吗！']}\n",
      "{'user_name': '番茄打西...', 'content': ['南瓜鸭子像不像']}\n",
      "{'user_name': '沧海天涯...', 'content': ['我想到了这一天早晚会到来，但我没想到这一天来的这么快']}\n",
      "{'user_name': '当年越远', 'content': ['做了九年的家庭主妇第一次碰到这种事情']}\n",
      "{'user_name': '镜端', 'content': ['小时候学英语我们都是用中文标读音学的，想问问大家是怎么学的？']}\n",
      "{'user_name': '糗友Wk...', 'content': ['新款路虎发现神行白色很不错的Suv']}\n",
      "{'user_name': '521黑...', 'content': []}\n",
      "{'user_name': '鲁智深暴...', 'content': ['如果让你用一个人名就能证明你是哪里人？你会用谁？我先来，东方朔。']}\n",
      "{'user_name': '今天困困...', 'content': ['这也就欧文了……詹姆斯：这换一般人，都是去你的篮球梦了！']}\n",
      "{'user_name': 'PROX...', 'content': ['记得当时泰坦尼克号出发的时候，我拼尽全力失声呐喊：不要启航！但是没有人听我的，还骂我，最后我被电影院的保安架了出去。']}\n",
      "{'user_name': '咦手艺人...', 'content': ['我站在超市门口等我妈，忽然看到旁边的小桌板上有个测温枪。鬼使神差地拿起来给自己测了一下，36.8。这时候忽然有人进来超市，看到我手里拿着测温枪，就把手伸给我。我']}\n",
      "{'user_name': '暴躁的小...', 'content': ['哈哈哈哈哈哈哈哈哈哈哈哈这是保送食堂是嘛？']}\n",
      "{'user_name': '窝里斗窝...', 'content': ['不看监控根本不知道，保姆大清早就这样对待孩子，这还能要不😂']}\n",
      "{'user_name': '游戏赢我...', 'content': ['我阿姨问我表弟作业上的字母是什么意思，我该怎么回答，在线等挺急的']}\n",
      "{'user_name': '叮咚八佰', 'content': ['初中骑踏板车，转弯时遇到直道车不上道，一慌就拧紧了油门，我爽起来了']}\n",
      "{'user_name': '文茗天下...', 'content': ['喵：铲屎的，空碗待朕你也好意思，盛饭去！']}\n",
      "{'user_name': '你不懂蛋...', 'content': ['你觉得自己戴眼镜很丑，或许是因为戴上眼镜你才看清自己的脸。']}\n",
      "{'user_name': '聊天就要...', 'content': ['憨憨杰尼龟表情包哈哈～憨憨脸红']}\n",
      "{'user_name': '上扬的脸...', 'content': ['我一直认为中化田园猫是不会变胖的，本想让它带我减肥。结果就是。。。。。']}\n",
      "{'user_name': '满天繁星...', 'content': ['说个我高中时候的事，我们文科，男少女多，我们小组只有两个男生，每次打扫卫生什么重活那小子都指着我干，不动手，感觉自己很帅似的。说好我俩涮洗，女生拖地，我把两个拖']}\n",
      "{'user_name': '☆笑熬浆...', 'content': ['送你们好东西']}\n",
      "{'user_name': '逗b聚乐...', 'content': ['流氓界的清流']}\n",
      "{'user_name': '肉夹馍研...', 'content': ['又到开学季了']}\n",
      "{'user_name': '九头纪', 'content': ['有次和男友闹矛盾了，不爽，下班坐大巴时也离他很远，后来坐了几站，又决定无声言和了，于是走到他旁边，忽然想起上次还有些旅游照片在他手机里，就伸手从他裤袋里把手机拿']}\n",
      "{'user_name': '撒旦的烈...', 'content': ['树叶周围长了很多蘑菇，好像缺了点什么。']}\n",
      "主进程结束\n",
      "total cost: 0.3666715621948242\n"
     ]
    }
   ],
   "source": [
    "import requests\n",
    "from lxml import etree\n",
    "from multiprocessing import Process\n",
    "from multiprocessing import JoinableQueue as Queue\n",
    "\n",
    "\n",
    "class MPQiuBai:\n",
    "    def __init__(self):\n",
    "        self.url_temp = \"https://www.qiushibaike.com/8hr/page/{}/\"\n",
    "        self.headers = {\n",
    "            \"User-Agent\": \"Mozilla/5.0 (Macintosh; Intel Mac OS X 10_15_5) AppleWebKit/537.36 (KHTML, like Gecko) Chrome/84.0.4147.135 Safari/537.36\"\n",
    "        }\n",
    "        self.url_queue = Queue()  # 保存url\n",
    "        self.html_queue = Queue()  # 保存html字符串\n",
    "        self.content_queue = Queue()  # 保存提取到的数据\n",
    "\n",
    "    def get_url_list(self):\n",
    "        for i in range(1, 14):\n",
    "            self.url_queue.put(self.url_temp.format(i))\n",
    "\n",
    "    def parse_url(self):\n",
    "        while True:\n",
    "            url = self.url_queue.get()\n",
    "            html_str = requests.get(url, headers=self.headers).content.decode()\n",
    "            self.html_queue.put(html_str)\n",
    "            self.url_queue.task_done()\n",
    "\n",
    "    def get_content_list(self):\n",
    "        while True:\n",
    "            html_str = self.html_queue.get()\n",
    "            html = etree.HTML(html_str)\n",
    "            div_list = html.xpath('//*[@id=\"content\"]/div/div[2]/div/ul/li')\n",
    "            content_list = []\n",
    "            for div in div_list:\n",
    "                content = {}\n",
    "                content[\"user_name\"] = div.xpath(\n",
    "                    \"./div/div/a/span/text()\")[0].strip()\n",
    "                content[\"content\"] = [i.strip()\n",
    "                                      for i in div.xpath(\"./div/a/text()\")]\n",
    "                content_list.append(content)\n",
    "            self.content_queue.put(content_list)\n",
    "            self.html_queue.task_done()\n",
    "\n",
    "    def save_content_list(self):\n",
    "        while True:\n",
    "            content_list = self.content_queue.get()\n",
    "            for content in content_list:\n",
    "                print(content)  # 此处对数据进行保存操作\n",
    "            self.content_queue.task_done()\n",
    "\n",
    "    def run(self):\n",
    "        process_list = []\n",
    "        # 1. url_list\n",
    "        t_url = Process(target=self.get_url_list)\n",
    "        process_list.append(t_url)\n",
    "        # 2. 遍历，发送请求\n",
    "        for i in range(3):  # 创建3个子进程\n",
    "            t_parse = Process(target=self.parse_url)\n",
    "            process_list.append(t_parse)\n",
    "        # 3. 提取数据\n",
    "        t_content = Process(target=self.get_content_list)\n",
    "        process_list.append(t_content)\n",
    "        # 4. 保存\n",
    "        t_save = Process(target=self.save_content_list)\n",
    "        process_list.append(t_save)\n",
    "\n",
    "        for t in process_list:\n",
    "            t.daemon = True  # 把进线程设置为守护线程，主进程技术，子进程结束\n",
    "            t.start()\n",
    "\n",
    "        for q in [self.url_queue, self.html_queue, self.content_queue]:\n",
    "            q.join()  # 让主进程阻塞\n",
    "\n",
    "        print(\"主进程结束\")\n",
    "\n",
    "\n",
    "if __name__ == '__main__':\n",
    "    t1 = time.time()\n",
    "    mp_qiubai = MPQiuBai()\n",
    "    mp_qiubai.run()\n",
    "    print(\"total cost:\", time.time()-t1)"
   ]
  },
  {
   "cell_type": "markdown",
   "metadata": {
    "slideshow": {
     "slide_type": "skip"
    }
   },
   "source": [
    "上述多进程实现的代码中，multiprocessing提供的JoinableQueue可以创建可连接的共享进程队列。和普通的Queue对象一样，队列允许项目的使用者通知生产者项目已经被成功处理。通知进程是使用共享的信号和条件变量来实现的。 对应的该队列能够和普通队列一样能够调用task_done和join方法"
   ]
  },
  {
   "cell_type": "markdown",
   "metadata": {
    "slideshow": {
     "slide_type": "slide"
    }
   },
   "source": [
    "#### 线程池实现爬虫"
   ]
  },
  {
   "cell_type": "markdown",
   "metadata": {
    "slideshow": {
     "slide_type": "slide"
    }
   },
   "source": [
    "##### 实例化线程池对象\n",
    "```\n",
    "from multiprocessing.dummy import Pool\n",
    "pool = Pool(processes=3)  # 默认大小是cup的个数\n",
    "\"\"\"源码内容：\n",
    "if processes is None:\n",
    "     processes = os.cpu_count() or 1\n",
    "     # 此处or的用法：\n",
    "     默认选择or前边的值，\n",
    "     如果or前边的值为False，就选择后边的值\n",
    "\"\"\"\n",
    "```"
   ]
  },
  {
   "cell_type": "markdown",
   "metadata": {
    "slideshow": {
     "slide_type": "slide"
    }
   },
   "source": [
    "##### 把从发送请求，提取数据，到保存合并成一个函数，交给线程池异步执行\n",
    "使用方法pool.apply_async(func)\n",
    "```\n",
    "def exetute_requests_item_save(self):\n",
    "    url = self.queue.get()\n",
    "    html_str = self.parse_url(url)\n",
    "    content_list = self.get_content_list(html_str)\n",
    "    self.save_content_list(content_list)\n",
    "    self.total_response_num += 1\n",
    "    \n",
    "pool.apply_async(self.exetute_requests_item_save)\n",
    "```"
   ]
  },
  {
   "cell_type": "markdown",
   "metadata": {
    "slideshow": {
     "slide_type": "slide"
    }
   },
   "source": [
    "##### 添加回调函数\n",
    "\n",
    "- 通过apply_async的方法能够让函数异步执行，但是只能够执行一次\n",
    "- 为了让其能够被反复执行，通过添加回调函数的方式能够让_callback 递归的调用自己\n",
    "- 同时需要指定递归退出的条件\n",
    "\n",
    "```\n",
    "def _callback(self, temp):\n",
    "     if self.is_running:\n",
    "          pool.apply_async(self.exetute_requests_item_save,\n",
    "                           callback=self._callback)\n",
    "\n",
    " pool.apply_async(self.exetute_requests_item_save,callback=self._callback)\n",
    "```"
   ]
  },
  {
   "cell_type": "markdown",
   "metadata": {
    "slideshow": {
     "slide_type": "slide"
    }
   },
   "source": [
    "##### 确定程序结束的条件 程序在获取的响应和url数量相同的时候可以结束\n",
    "```\n",
    "while True:  # 防止主线程结束\n",
    "     time.sleep(0.0001)  # 避免cpu空转，浪费资源\n",
    "     if self.total_response_num >= self.total_requests_num:\n",
    "         self.is_running = False\n",
    "         break\n",
    " self.pool.close() #关闭线程池，防止新的线程开启\n",
    "# self.pool.join() #等待所有的子线程结束\n",
    "```"
   ]
  },
  {
   "cell_type": "code",
   "execution_count": 27,
   "metadata": {
    "slideshow": {
     "slide_type": "slide"
    }
   },
   "outputs": [
    {
     "name": "stdout",
     "output_type": "stream",
     "text": [
      "{'user_name': 'BadG...', 'content': ['蓝天白云，嗨起来?']}\n",
      "{'user_name': '白玉无尘', 'content': ['这学还能上？这孩子还能要？']}\n",
      "{'user_name': '納森_陳...', 'content': ['谢谢，糊弄学更进一步了。']}\n",
      "{'user_name': '爆笑大蒜...', 'content': ['我跟女友第一次约会结束后，我骑着自行车送她回家。经过她们村的一片玉米地时，女友就从自行车上蹦了下来，把我也拽停，扯着我的衣服就往玉米地里钻。我顿时激动万分，吓得']}\n",
      "{'user_name': '一路高歌...', 'content': ['本..本人！？']}\n",
      "{'user_name': 'PROX...', 'content': ['记得当时泰坦尼克号出发的时候，我拼尽全力失声呐喊：不要启航！但是没有人听我的，还骂我，最后我被电影院的保安架了出去。']}\n",
      "{'user_name': '凉宫长门', 'content': ['哇:我疯狂期待！！！:啊！啊！啊！啊！逆天尖叫！']}\n",
      "{'user_name': '巍人师表...', 'content': ['人类还有机会吗？']}\n",
      "{'user_name': 'hawk...', 'content': ['#已经立秋了，告诉大家几个生活小常识：1、一天不能吃太多鸡蛋，吃太多，对母鸡身体不好，它来不及下。2、不要吃鸡屁股，鸡从来都不擦屁股。3、饭后吃水果是错误的观念']}\n",
      "{'user_name': '一枕清霜', 'content': ['下面请听歌曲']}\n",
      "{'user_name': '正儿八经...', 'content': ['模仿老公，看见老丈人来了VS老爸来了']}\n",
      "{'user_name': '留恋那抹...', 'content': ['巩哥抻了一嘴的好面！😂']}\n",
      "{'user_name': '东临～天...', 'content': ['教练还在医院，发誓出院后改行…！']}\n",
      "{'user_name': '猪兔籽', 'content': ['功夫就系甘练成个']}\n",
      "{'user_name': '骑着二哈...', 'content': ['江南皮革厂老板名字叫黄鹤其实还挺合理的，因为古代有个诗句是＂黄鹤一去不复返＂，估计是受了这句诗的启发，所有他带着小夷子跑了不回来了。而且还可以推断出他lp叫白云']}\n",
      "{'user_name': '系嘻嘻嘻...', 'content': ['这是我见过最豪华的迎亲现场！']}\n",
      "{'user_name': '阿狸小狐...', 'content': ['乘车，上车后直奔一个空位子去，听到一句，这是给我女朋友留得位子，玛德，又给虐了一把']}\n",
      "{'user_name': '青葱碎梦', 'content': ['提前体验老年人的生活，，，']}\n",
      "{'user_name': 'poli...', 'content': ['据说每一只，将来都会是一只耀眼的瘦子就是姿势有些妖娆。']}\n",
      "{'user_name': '白玉无尘', 'content': ['我就不告诉你为啥要扫墓要带口罩']}\n",
      "{'user_name': '威趣贝', 'content': ['哈哈哈哈哈哈哈哈哈哈哈哈哈哈哈哈哈啊哈哈哈哈哈啊哈哈学到了']}\n",
      "{'user_name': 'PROX...', 'content': ['记得当时泰坦尼克号出发的时候，我拼尽全力失声呐喊：不要启航！但是没有人听我的，还骂我，最后我被电影院的保安架了出去。']}\n",
      "{'user_name': '给叮叮把...', 'content': ['什么是神回复……请看图……']}\n",
      "{'user_name': 'XGG西...', 'content': ['爆笑相亲']}\n",
      "{'user_name': '宁波火狐...', 'content': ['“你好，我们是达达乐队”']}\n",
      "{'user_name': '内田帆', 'content': ['K']}\n",
      "{'user_name': 'Anon...', 'content': ['我坚信梦想能到达的地方，脚步终有一天会到达目的地——床上，洗洗睡吧梦里想走到哪地行。']}\n",
      "{'user_name': '-奶茶蔻...', 'content': ['平时和你联机的到底是不是人！！！']}\n",
      "{'user_name': '名字太俊...', 'content': ['我以为我是冠军']}\n",
      "{'user_name': '为啥我名...', 'content': ['老铁，你想看制服诱惑吗……']}\n",
      "{'user_name': 'fool...', 'content': ['这是最简单的描述TCP:你瞅啥？」「瞅你咋地？」「来咱俩唠唠。」然后就唠上了。']}\n",
      "{'user_name': '这个和尚...', 'content': ['嗯。是这样的']}\n",
      "{'user_name': '叮咚八佰', 'content': ['初中骑踏板车，转弯时遇到直道车不上道，一慌就拧紧了油门，我爽起来了']}\n",
      "{'user_name': '漫画冯火', 'content': ['痛快活在当下做事品酒闲游不必假装深沉总想永垂不朽']}\n",
      "{'user_name': '女王的皇...', 'content': ['和我对象说狗狗打了狂犬疫苗，但猫猫还没打狂犬疫苗。对象：不对啊，猫怎么打狂犬疫苗？不是狂猫疫苗？我：瓦特？（认真思索是不是在开玩笑']}\n",
      "{'user_name': '悲催的来...', 'content': ['今天外面下雨，鞋湿了，突发奇想用吹风机吹干。结果，鞋是干了，房间里面的味道。。。太鲜亮了']}\n",
      "{'user_name': 'ocon...', 'content': ['态度强硬.jpg']}\n",
      "{'user_name': '名字又不...', 'content': ['这家店光看名字就很有画面感']}\n",
      "{'user_name': '_李曌', 'content': ['没有诺兰的那几天心里空空的，这个男人明明可以靠颜值，却偏偏要靠才华，玩得转烧脑，拍得了科幻，逻辑缜密能力一流！今天他的电影终于上映了，看完它还有，哎呀这就是心动']}\n",
      "{'user_name': '九头纪', 'content': ['有次中午吃饭的时候傍边坐了一个五岁的小萝莉，粉可爱，非常能说。本人本着大姐姐的责任心与使命感在饭桌上对她百般照顾。小萝莉也对我慢慢的很友好，然后她突然问道：“你']}\n",
      "{'user_name': '怪蜀黍m...', 'content': ['看谁飞得高，飞得远！这三个扣篮如果选一个冠军，你会选谁？']}\n",
      "{'user_name': '猪兔籽', 'content': ['功夫就系甘练成个']}\n",
      "{'user_name': '我就是g...', 'content': ['老云玩家了']}\n",
      "{'user_name': 'Cc_喵...', 'content': ['这手刹，给力']}\n",
      "{'user_name': '蒙面超人...', 'content': ['这个地方有必要去厕所吗']}\n",
      "{'user_name': '美丽的冰...', 'content': ['果然没有人逃过真香定律，站得够高，让不点外卖的姐妹也拥有了炸鸡快乐。']}\n",
      "{'user_name': '天热打鼓...', 'content': ['8月31号，做义工打扫儿子的新教室，我卖力的表现，终于吸引了班主任兼数学老师的目光：您是那谁谁的爸爸吧，孩子成绩咋样啊？我激动的回答：成绩中等偏上吧，特别喜欢数']}\n",
      "{'user_name': '喂妖妖零...', 'content': ['那些难以等到续作的番剧，你们最意难平的是哪个']}\n",
      "{'user_name': 'KEVI...', 'content': ['身背动态心电图机，我假装背了个cd机，好像落伍了']}\n",
      "{'user_name': '缘来～是...', 'content': ['这是一只会武术的狗！']}\n",
      "{'user_name': '今天困困...', 'content': ['热火115:104爆冷战胜雄鹿，大比分1-0领先！巴特勒砍下40分4篮板，德拉季奇27分6篮板5助攻，阿德巴约有12分17篮板6助攻！雄鹿米德尔顿28分6篮板5']}\n",
      "{'user_name': '鹭云飞', 'content': ['贫穷限制了想象力，有钱人的世界我们不懂~']}\n",
      "{'user_name': 'keke...', 'content': ['差点把孩子当肉给吞了[泪奔][泪奔]']}\n",
      "{'user_name': '帕金森综...', 'content': ['公元1219年，成吉思汗率军西征，由于缺少炊具，无法做饭。太祖灵机一动，让士兵取下头盔当锅放火上烤肉，解决了这一问题。当他视察的时候，发现一个士兵的烤肉特别受欢']}\n",
      "{'user_name': '女王的皇...', 'content': ['和我对象说狗狗打了狂犬疫苗，但猫猫还没打狂犬疫苗。对象：不对啊，猫怎么打狂犬疫苗？不是狂猫疫苗？我：瓦特？（认真思索是不是在开玩笑']}\n",
      "{'user_name': '老娘宇宙...', 'content': ['哈哈哈哈哈哈哈哈哈哈哈哈这是保送食堂是嘛？']}\n",
      "{'user_name': '镜端', 'content': ['不要害怕我是在帮你']}\n",
      "{'user_name': '白玉无尘', 'content': ['可怕不可怕你说了算']}\n",
      "{'user_name': '曦我往影', 'content': ['这只猫每到修毛，剪指甲时整只猫就呆滞了，这表情萌炸了']}\n",
      "{'user_name': '糗友RI...', 'content': ['几个朋友去烧烤摊喝酒，酒过三巡，一哥们不无自豪的说想当初哥们我是做人事的，谁知现在会沦落到这地步，另一人红着脸迷糊的说：哦，你现在都不干“人事儿”了，怪不得混得']}\n",
      "{'user_name': '__李佳...', 'content': ['吃美食听音乐打游戏都感觉不到快乐，做什么事都毫无乐趣……这可能是一种叫做“快感缺乏症”的心理疾病……']}\n",
      "{'user_name': '世间同此...', 'content': ['班里一对品学兼优的小情侣吵翻了，他们是公认的“模范同桌”，甚至在全校都有名。班主任抓到早恋的，都会拿“模范同桌”做榜样，你们如果能像他们一样，既搞对象又能考高分']}\n",
      "{'user_name': '最天使w...', 'content': ['100份螺蛳粉的威力。。。']}\n",
      "{'user_name': 'magi...', 'content': ['？？？？？']}\n",
      "{'user_name': '倾心倾情...', 'content': ['每次午休，我们关上门，boss就来敲门说事，后来就不午休了，可是不午休了吧boss还倒是不来了，再后来……我们开着门午休……[捂脸]']}\n",
      "{'user_name': '叶舞西风', 'content': ['我期盼已久的等待～']}\n",
      "{'user_name': '逗b聚乐...', 'content': ['这车子是喝醉了']}\n",
      "{'user_name': '今天困困...', 'content': ['这也就欧文了……詹姆斯：这换一般人，都是去你的篮球梦了！']}\n",
      "{'user_name': '罗家大姑...', 'content': ['中午来上班的路上遇到一个行走的“卤蛋”👴🏻，突然好奇他们不热吗？']}\n",
      "{'user_name': '狂霸风云...', 'content': ['“豹笑”合集']}\n",
      "{'user_name': '糗友OT...', 'content': ['人这一辈子']}\n",
      "{'user_name': '|東|', 'content': []}\n",
      "{'user_name': '沧海天涯...', 'content': ['婚礼上大家每个人的心情都不一样']}\n",
      "{'user_name': '黎泔脚', 'content': ['为了吃顿外卖有多拼']}\n",
      "{'user_name': '随便啊我...', 'content': ['家里买来了电脑后,老婆很快就迷上了网游,家务活儿都统统扔给了我。这天,我趁老婆上卫生间,悄悄地把主机插头拔掉,给老婆造成一个电脑无法启动的假象,看她还怎么上网?']}\n",
      "{'user_name': '骄傲的皮...', 'content': ['女朋友网购的东西，刚打开看愣住了，这是个啥玩意啊']}\n",
      "{'user_name': '九头纪', 'content': ['那天我和姥姥聊天，说到个头，我感慨到：唉！我也不长个了…（一米六二截止）这时，姥姥意味深长的来了句：你还长啥，你还长皱纹。额当时～泪奔～额也不老哇～呜呜呜长皱纹']}\n",
      "{'user_name': '留恋那抹...', 'content': ['我半小时不动，我两个闺女把我画下来的效果']}\n",
      "{'user_name': '逗b聚乐...', 'content': ['马桶都有人亲，你却没有']}\n",
      "{'user_name': '缘来～是...', 'content': ['就怕坐上去，一吸，几年便秘都一下只吸没了！']}\n",
      "{'user_name': '下雨了想...', 'content': ['事业和爱情都可以玩来，但是打野不能晚来！']}\n",
      "{'user_name': 'PROX...', 'content': ['记得当时泰坦尼克号出发的时候，我拼尽全力失声呐喊：不要启航！但是没有人听我的，还骂我，最后我被电影院的保安架了出去。']}\n",
      "{'user_name': '狂霸风云...', 'content': ['“豹笑”合集']}\n",
      "{'user_name': '白玉无尘', 'content': ['实名羡慕秒睡技能，快找一找关机键在哪里']}\n",
      "{'user_name': '糗百精华...', 'content': ['神车，神人，神牌，神技，四神归位']}\n",
      "{'user_name': '满天繁星...', 'content': ['说个我高中时候的事，我们文科，男少女多，我们小组只有两个男生，每次打扫卫生什么重活那小子都指着我干，不动手，感觉自己很帅似的。说好我俩涮洗，女生拖地，我把两个拖']}\n",
      "{'user_name': '水煮七小...', 'content': ['妹妹叫我一声姐我心都化了，妹妹说要请我吃饭我手就废了。草率了草率了']}\n",
      "{'user_name': '白玉无尘', 'content': ['关于老外如何长大，你们一定都听过这种说法……']}\n",
      "{'user_name': '咦手艺人...', 'content': ['我站在超市门口等我妈，忽然看到旁边的小桌板上有个测温枪。鬼使神差地拿起来给自己测了一下，36.8。这时候忽然有人进来超市，看到我手里拿着测温枪，就把手伸给我。我']}\n",
      "{'user_name': '卖铺子的...', 'content': ['你们有点出息行不行，别一看基金跌了就慌乱的一批，买基金是需要长期坚持的！如果一直涨那都别上班了，都靠这个发家致富吧！玩儿这种东西首先要心态好！要有主见，不要听别']}\n",
      "{'user_name': 'fann...', 'content': ['土耳其摄影师AbdullAyd在街头拍到的小朋友们的眼睛，纯真无邪，却像宇宙星辰一样惊艳啊！']}\n",
      "{'user_name': '名字太俊...', 'content': ['当你开始追女孩子']}\n",
      "{'user_name': '哈勒个二...', 'content': ['模仿大赛摘录']}\n",
      "{'user_name': '一颗青色...', 'content': ['女人喜欢让她笑的男人深爱着让她哭的男人比如我的女人我是先挠她痒痒然后用洋葱水呲她']}\n",
      "{'user_name': 'Crue...', 'content': ['猫：我求求你放过我叭……']}\n",
      "{'user_name': 'L丶Iv...', 'content': ['上个厕所，要怀疑人生了要当场吓尿了吧搞笑']}\n",
      "total cost: 0.4212162494659424\n"
     ]
    }
   ],
   "source": [
    "import requests\n",
    "from lxml import etree\n",
    "from queue import Queue\n",
    "from multiprocessing.dummy import Pool\n",
    "import time\n",
    "\n",
    "\n",
    "class TQQiuBai:\n",
    "    def __init__(self):\n",
    "        self.url_temp = \"https://www.qiushibaike.com/8hr/page/{}/\"\n",
    "        self.headers = {\n",
    "            \"User-Agent\": \"Mozilla/5.0 (Macintosh; Intel Mac OS X 10_15_5) AppleWebKit/537.36 (KHTML, like Gecko) Chrome/84.0.4147.135 Safari/537.36\"\n",
    "        }\n",
    "        self.queue = Queue()\n",
    "        self.pool = Pool(5)\n",
    "        self.is_running = True\n",
    "        self.total_requests_num = 0\n",
    "        self.total_response_num = 0\n",
    "\n",
    "    def get_url_list(self):  # 获取url列表\n",
    "        for i in range(1, 14):\n",
    "            self.queue.put(self.url_temp.format(i))\n",
    "            self.total_requests_num += 1\n",
    "\n",
    "    def parse_url(self, url):  # 发送请求，获取响应\n",
    "        return requests.get(url, headers=self.headers).content.decode()\n",
    "\n",
    "    def get_content_list(self, html_str):  # 提取段子\n",
    "        html = etree.HTML(html_str)\n",
    "        div_list = html.xpath('//*[@id=\"content\"]/div/div[2]/div/ul/li')\n",
    "        content_list = []\n",
    "        for div in div_list:\n",
    "            content = {}\n",
    "            content[\"user_name\"] = div.xpath(\n",
    "                \"./div/div/a/span/text()\")[0].strip()\n",
    "            content[\"content\"] = [i.strip()\n",
    "                                  for i in div.xpath(\"./div/a/text()\")]\n",
    "            content_list.append(content)\n",
    "        return content_list\n",
    "\n",
    "    def save_content_list(self, content_list):  # 保存数据\n",
    "        for content in content_list:\n",
    "            print(content)  # 此处对数据进行保存操作\n",
    "\n",
    "    def exetute_requests_item_save(self):\n",
    "        url = self.queue.get()\n",
    "        html_str = self.parse_url(url)\n",
    "        content_list = self.get_content_list(html_str)\n",
    "        self.save_content_list(content_list)\n",
    "        self.total_response_num += 1\n",
    "\n",
    "    def _callback(self, temp):\n",
    "        if self.is_running:\n",
    "            self.pool.apply_async(\n",
    "                self.exetute_requests_item_save, callback=self._callback)\n",
    "\n",
    "    def run(self):\n",
    "        self.get_url_list()\n",
    "\n",
    "        for i in range(2):  # 控制并发\n",
    "            self.pool.apply_async(\n",
    "                self.exetute_requests_item_save, callback=self._callback)\n",
    "\n",
    "        while True:  # 防止主线程结束\n",
    "            time.sleep(0.0001)  # 避免cpu空转，浪费资源\n",
    "            if self.total_response_num >= self.total_requests_num:\n",
    "                self.is_running = False\n",
    "                break\n",
    "\n",
    "\n",
    "if __name__ == '__main__':\n",
    "    t1 = time.time()\n",
    "    tq_qiubai = TQQiuBai()\n",
    "    tq_qiubai.run()\n",
    "    print(\"total cost:\", time.time()-t1)"
   ]
  },
  {
   "cell_type": "markdown",
   "metadata": {
    "slideshow": {
     "slide_type": "slide"
    }
   },
   "source": [
    "#### 协程池实现爬虫"
   ]
  },
  {
   "cell_type": "markdown",
   "metadata": {
    "slideshow": {
     "slide_type": "slide"
    }
   },
   "source": [
    "##### 协程池模块\n",
    "```\n",
    "import gevent.monkey\n",
    "gevent.monkey.patch_all()\n",
    "from gevent.pool import Pool\n",
    "```"
   ]
  },
  {
   "cell_type": "code",
   "execution_count": null,
   "metadata": {
    "scrolled": false,
    "slideshow": {
     "slide_type": "slide"
    }
   },
   "outputs": [],
   "source": [
    "import time\n",
    "from queue import Queue\n",
    "from lxml import etree\n",
    "import requests\n",
    "from gevent.pool import Pool\n",
    "import gevent.monkey\n",
    "gevent.monkey.patch_all()\n",
    "\n",
    "\n",
    "class GQQiuBai:\n",
    "    def __init__(self):\n",
    "        self.url_temp = \"https://www.qiushibaike.com/8hr/page/{}/\"\n",
    "        self.headers = {\n",
    "            \"User-Agent\": \"Mozilla/5.0 (Macintosh; Intel Mac OS X 10_15_5) AppleWebKit/537.36 (KHTML, like Gecko) Chrome/84.0.4147.135 Safari/537.36\"\n",
    "        }\n",
    "        self.queue = Queue()\n",
    "        self.pool = Pool(3)\n",
    "        self.is_running = True\n",
    "        self.total_requests_num = 0\n",
    "        self.total_response_num = 0\n",
    "\n",
    "    def get_url_list(self):  # 获取url列表\n",
    "        for i in range(1, 14):\n",
    "            self.queue.put(self.url_temp.format(i))\n",
    "            self.total_requests_num += 1\n",
    "\n",
    "    def parse_url(self, url):  # 发送请求，获取响应\n",
    "        return requests.get(url, headers=self.headers).content.decode()\n",
    "\n",
    "    def get_content_list(self, html_str):  # 提取段子\n",
    "        html = etree.HTML(html_str)\n",
    "        div_list = html.xpath('//*[@id=\"content\"]/div/div[2]/div/ul/li')\n",
    "        content_list = []\n",
    "        for div in div_list:\n",
    "            content = {}\n",
    "            content[\"user_name\"] = div.xpath(\n",
    "                \"./div/div/a/span/text()\")[0].strip()\n",
    "            content[\"content\"] = [i.strip()\n",
    "                                  for i in div.xpath(\"./div/a/text()\")]\n",
    "            content_list.append(content)\n",
    "        return content_list\n",
    "\n",
    "    def save_content_list(self, content_list):  # 保存数据\n",
    "        for content in content_list:\n",
    "            print(content)  # 此处对数据进行保存操作\n",
    "\n",
    "    def exetute_requests_item_save(self):\n",
    "        url = self.queue.get()\n",
    "        html_str = self.parse_url(url)\n",
    "        content_list = self.get_content_list(html_str)\n",
    "        self.save_content_list(content_list)\n",
    "        self.total_response_num += 1\n",
    "\n",
    "    def _callback(self, temp):\n",
    "        if self.is_running:\n",
    "            self.pool.apply_async(\n",
    "                self.exetute_requests_item_save, callback=self._callback)\n",
    "\n",
    "    def run(self):\n",
    "        self.get_url_list()\n",
    "\n",
    "        for i in range(2):  # 控制并发\n",
    "            self.pool.apply_async(\n",
    "                self.exetute_requests_item_save, callback=self._callback)\n",
    "\n",
    "        while True:  # 防止主线程结束\n",
    "            time.sleep(0.0001)  # 避免cpu空转，浪费资源\n",
    "            if self.total_response_num >= self.total_requests_num:\n",
    "                self.is_running = False\n",
    "                break\n",
    "\n",
    "\n",
    "if __name__ == '__main__':\n",
    "    t1 = time.time()\n",
    "    gq_qiubai = GQQiuBai()\n",
    "    gq_qiubai.run()\n",
    "    print(\"total cost:\", time.time()-t1)"
   ]
  },
  {
   "cell_type": "markdown",
   "metadata": {
    "slideshow": {
     "slide_type": "slide"
    }
   },
   "source": [
    "## 招聘网站爬虫实战"
   ]
  },
  {
   "cell_type": "markdown",
   "metadata": {
    "slideshow": {
     "slide_type": "slide"
    }
   },
   "source": [
    "- 在线JSON校验格式化工具：http://www.bejson.com/\n",
    "- 招聘网站url：https://www.lagou.com/"
   ]
  },
  {
   "cell_type": "code",
   "execution_count": 28,
   "metadata": {
    "slideshow": {
     "slide_type": "slide"
    }
   },
   "outputs": [],
   "source": [
    "import requests\n",
    "from lxml import etree\n",
    "url = 'https://www.lagou.com/jobs/positionAjax.json?city=%E5%8C%97%E4%BA%AC&needAddtionalResult=false'\n",
    "headers = {\n",
    "    'Accept': 'application/json, text/javascript, */*; q=0.01',\n",
    "    'Referer': 'https://www.lagou.com/jobs/list_%E8%BF%90%E7%BB%B4?city=%E6%88%90%E9%83%BD&cl=false&fromSearch=true&labelWords=&suginput=',\n",
    "    'User-Agent': 'Mozilla/5.0 (Windows NT 10.0; Win64; x64) AppleWebKit/537.36 (KHTML, like Gecko) Chrome/72.0.3626.121 Safari/537.36'\n",
    "}\n",
    "\n",
    "s = requests.Session()\n",
    "s.get(url='https://www.lagou.com/jobs/list_python%E5%85%A8%E6%A0%88?labelWords=&fromSearch=true&suginput=',\n",
    "      headers=headers, timeout=3)\n",
    "cookie = s.cookies\n",
    "params = {\n",
    "    \"city\": \"北京\",\n",
    "    \"needAddtionalResult\": \"false\"\n",
    "}\n",
    "\n",
    "data = {\n",
    "    \"first\": \"true\",\n",
    "    \"pn\": \"1\",\n",
    "    \"kd\": \"python全栈\",\n",
    "}\n",
    "res = requests.post(url, headers=headers, params=params,\n",
    "                    data=data, cookies=cookie, timeout=3)\n",
    "text = res.json()\n"
   ]
  },
  {
   "cell_type": "code",
   "execution_count": 38,
   "metadata": {
    "slideshow": {
     "slide_type": "slide"
    }
   },
   "outputs": [
    {
     "name": "stdout",
     "output_type": "stream",
     "text": [
      "{'firstType': '开发|测试|运维类', 'secondType': '后端开发', 'thirdType': 'Python', 'city': '北京', 'positionName': 'python全栈（ID:ZY）', 'district': '海淀区', 'stationname': '永丰南', 'jobNature': '全职', 'companyLabelList': '[]', 'industryField': '电商', 'salary': '8k-13k', 'companySize': '2000人以上', 'skillLables': \"['Python']\", 'createTime': '2020-09-03 17:19:48', 'companyFullName': '北京瑞友科技股份有限公司', 'workYear': '3-5年', 'education': '大专', 'positionAdvantage': '外企风格，中文工作环境、不加班、双休、节假日', 'url': 'https://www.lagou.com/jobs/7649378.html', 'detail': '', 'type': \"<class 'type'>\", 'latitude': '40.067787', 'longitude': '116.256382'}\n",
      "{'firstType': '开发|测试|运维类', 'secondType': '后端开发', 'thirdType': 'Python', 'city': '上海', 'positionName': 'python全栈开发工程师', 'district': '浦东新区', 'stationname': '广兰路', 'jobNature': '全职', 'companyLabelList': '[]', 'industryField': '金融,软件开发', 'salary': '12k-24k', 'companySize': '50-150人', 'skillLables': \"['Python', '全栈']\", 'createTime': '2020-09-03 13:31:54', 'companyFullName': '上海淘利资产管理有限公司', 'workYear': '1-3年', 'education': '硕士', 'positionAdvantage': '落沪 PYQT', 'url': 'https://www.lagou.com/jobs/7529120.html', 'detail': '', 'type': \"<class 'type'>\", 'latitude': '31.209439', 'longitude': '121.628254'}\n",
      "{'firstType': '开发|测试|运维类', 'secondType': '后端开发', 'thirdType': 'Python', 'city': '北京', 'positionName': 'python全栈', 'district': '海淀区', 'stationname': '西北旺', 'jobNature': '全职', 'companyLabelList': '[]', 'industryField': '电商', 'salary': '12k-15k', 'companySize': '2000人以上', 'skillLables': \"['Python']\", 'createTime': '2020-09-02 16:39:10', 'companyFullName': '北京瑞友科技股份有限公司', 'workYear': '3-5年', 'education': '本科', 'positionAdvantage': '大型外企 无加班 发展空间大', 'url': 'https://www.lagou.com/jobs/7650140.html', 'detail': '', 'type': \"<class 'type'>\", 'latitude': '40.052904', 'longitude': '116.254866'}\n",
      "{'firstType': '开发|测试|运维类', 'secondType': '后端开发', 'thirdType': 'Python', 'city': '北京', 'positionName': 'Python全栈工程师', 'district': '朝阳区', 'stationname': 'None', 'jobNature': '全职', 'companyLabelList': \"['带薪年假', '绩效奖金', '定期体检', '晚餐补助']\", 'industryField': '文娱丨内容', 'salary': '15k-25k', 'companySize': '150-500人', 'skillLables': \"['Python', '数据库']\", 'createTime': '2020-09-02 16:43:10', 'companyFullName': '北京倍飞视国际视觉艺术交流有限公司', 'workYear': '3-5年', 'education': '本科', 'positionAdvantage': '技术栈使用空间大，可尝试各类最新技术', 'url': 'https://www.lagou.com/jobs/7324701.html', 'detail': '', 'type': \"<class 'type'>\", 'latitude': '39.948574', 'longitude': '116.601144'}\n",
      "{'firstType': '开发|测试|运维类', 'secondType': '前端开发', 'thirdType': 'WEB前端', 'city': '北京', 'positionName': 'Python全栈开发工程师', 'district': '海淀区', 'stationname': '知春路', 'jobNature': '全职', 'companyLabelList': '[]', 'industryField': '数据服务、物联网', 'salary': '15k-25k', 'companySize': '15-50人', 'skillLables': '[]', 'createTime': '2020-09-01 13:33:43', 'companyFullName': '北京千尧新能源科技开发有限公司', 'workYear': '3-5年', 'education': '本科', 'positionAdvantage': '五险一金、带薪年假、周末双休、上升空间大', 'url': 'https://www.lagou.com/jobs/7345359.html', 'detail': '', 'type': \"<class 'type'>\", 'latitude': '39.972134', 'longitude': '116.329519'}\n",
      "{'firstType': '开发|测试|运维类', 'secondType': '后端开发', 'thirdType': '全栈', 'city': '上海', 'positionName': 'python全栈开发', 'district': '长宁区', 'stationname': '淞虹路', 'jobNature': '全职', 'companyLabelList': \"['高薪', '节日礼物', '弹性工作', '带薪年假']\", 'industryField': '移动互联网,企业服务', 'salary': '10k-20k', 'companySize': '500-2000人', 'skillLables': \"['Linux/Unix', 'Python', '全栈']\", 'createTime': '2020-09-01 10:11:18', 'companyFullName': '瞬联软件科技（北京）有限公司', 'workYear': '不限', 'education': '本科', 'positionAdvantage': '六险一金 带薪假期 弹性工作 外企氛围', 'url': 'https://www.lagou.com/jobs/5390527.html', 'detail': '岗位介绍：通信节点实时监控平台web全栈开发，进行数据采集，CUP/memory/通道流量，深入分析数据，欧美日产品化推广，平台化——数据通信节点集中处。\\xa0任职资格：1、本科以上学历，1年以上后端开发经验。2、熟悉 HTML、CSS、JavaScript。3、熟悉 Node.js、Python等任一种后台开发语言优先。4、掌握至少一种web开发框架如Flask/Djago/JQuery/AngularJS。5、乐于探索未知领域，随时准备好去面对新挑战。', 'type': \"<class 'type'>\", 'latitude': '31.21935', 'longitude': '121.354954'}\n",
      "{'firstType': '开发|测试|运维类', 'secondType': '后端开发', 'thirdType': 'Python', 'city': '北京', 'positionName': '全栈开发工程师（Python方向）', 'district': '海淀区', 'stationname': '知春里', 'jobNature': '全职', 'companyLabelList': \"['科技大牛公司', '自助三餐', '年终多薪', '超长带薪假期']\", 'industryField': '人工智能', 'salary': '20k-40k', 'companySize': '500-2000人', 'skillLables': \"['后端', 'Python', '云计算', '人脸识别']\", 'createTime': '2020-08-31 13:45:08', 'companyFullName': '北京旷视科技有限公司', 'workYear': '3-5年', 'education': '本科', 'positionAdvantage': 'AI独角兽', 'url': 'https://www.lagou.com/jobs/6540902.html', 'detail': '', 'type': \"<class 'type'>\", 'latitude': '39.984268', 'longitude': '116.325061'}\n",
      "{'firstType': '开发|测试|运维类', 'secondType': '后端开发', 'thirdType': 'Python', 'city': '北京', 'positionName': '高级python开发工程师', 'district': '海淀区', 'stationname': '知春路', 'jobNature': '全职', 'companyLabelList': \"['年底双薪', '绩效奖金', '带薪年假', '免费健身']\", 'industryField': '移动互联网', 'salary': '25k-45k', 'companySize': '50-150人', 'skillLables': \"['Python', '算法', '后端']\", 'createTime': '2020-09-03 21:20:21', 'companyFullName': '北京音娱时光科技有限公司', 'workYear': '5-10年', 'education': '本科', 'positionAdvantage': '技术氛围好;团队优秀;', 'url': 'https://www.lagou.com/jobs/7183784.html', 'detail': '', 'type': \"<class 'type'>\", 'latitude': '39.977555', 'longitude': '116.352145'}\n",
      "{'firstType': '开发|测试|运维类', 'secondType': '后端开发', 'thirdType': '全栈', 'city': '成都', 'positionName': '全栈开发工程师', 'district': '成华区', 'stationname': '天府三街', 'jobNature': '全职', 'companyLabelList': \"['节日礼物', '技能培训', '带薪年假', '绩效奖金']\", 'industryField': '移动互联网,电商', 'salary': '11k-14k', 'companySize': '2000人以上', 'skillLables': \"['全栈', 'Java']\", 'createTime': '2020-09-03 21:19:43', 'companyFullName': '北京联龙博通电子商务技术有限公司', 'workYear': '3-5年', 'education': '本科', 'positionAdvantage': '发展前景大 平台好', 'url': 'https://www.lagou.com/jobs/7663450.html', 'detail': '', 'type': \"<class 'type'>\", 'latitude': '30.544907', 'longitude': '104.056329'}\n",
      "{'firstType': '开发|测试|运维类', 'secondType': '后端开发', 'thirdType': 'Python', 'city': '深圳', 'positionName': '高级 Python 工程师', 'district': '南山区', 'stationname': '高新园', 'jobNature': '全职', 'companyLabelList': \"['持续盈利', '国际龙头企业', 'SaaS平台', '极客氛围']\", 'industryField': '电商', 'salary': '25k-35k', 'companySize': '150-500人', 'skillLables': \"['Python', 'Node.js', '后端']\", 'createTime': '2020-09-03 21:10:26', 'companyFullName': '爱客科技（深圳）有限公司', 'workYear': '5-10年', 'education': '本科', 'positionAdvantage': '全球项目、高薪资、高福利、国际团队', 'url': 'https://www.lagou.com/jobs/6578063.html', 'detail': '', 'type': \"<class 'type'>\", 'latitude': '22.535004', 'longitude': '113.941975'}\n",
      "{'firstType': '开发|测试|运维类', 'secondType': '后端开发', 'thirdType': 'Python', 'city': '上海', 'positionName': 'python开发工程师G00345', 'district': '黄浦区', 'stationname': '天潼路', 'jobNature': '全职', 'companyLabelList': \"['团队融洽', '股票期权', '扁平管理', '通讯津贴']\", 'industryField': '数据服务,企业服务', 'salary': '20k-40k', 'companySize': '50-150人', 'skillLables': \"['后端']\", 'createTime': '2020-09-03 21:08:46', 'companyFullName': '上海谷露软件有限公司', 'workYear': '不限', 'education': '本科', 'positionAdvantage': '大牛多，技术氛围好', 'url': 'https://www.lagou.com/jobs/7118054.html', 'detail': '职位诱惑：真正的工程师文化，优质团队我们想找玩转源码的同类人，而非只会用框架的大多数~职位描述：互联网软件行业——Python开发工程师（上海）工作职责： 配合团队其他成员进行模块开发及整合 独立完成后台服务功能模块的设计与开发 开发和维护自动化运维工具 开发和维护谷露招聘管理系统任职要求： 具备扎实的语言、数据结构、数据库、网络等基础知识； 逻辑条理性强，具备良好的沟通能力 ；熟悉web开发优先 ；Full Stack优先 ；有项目经验优先 ；热爱技术，追求**者优先。', 'type': \"<class 'type'>\", 'latitude': '31.230438', 'longitude': '121.481062'}\n",
      "{'firstType': '开发|测试|运维类', 'secondType': '后端开发', 'thirdType': '其他后端开发', 'city': '深圳', 'positionName': '【实习】游戏后台 C#/Python 开发', 'district': '南山区', 'stationname': '后海', 'jobNature': '实习', 'companyLabelList': \"['股票期权', '全球市场', '自带光环']\", 'industryField': '移动互联网,社交', 'salary': '3k-4k', 'companySize': '15-50人', 'skillLables': \"['C#/.NET', 'Java', 'Python']\", 'createTime': '2020-09-03 21:00:27', 'companyFullName': '深圳战吼网络科技有限公司', 'workYear': '应届毕业生', 'education': '本科', 'positionAdvantage': '跟大牛学习,可转正，工作气氛活跃', 'url': 'https://www.lagou.com/jobs/4813663.html', 'detail': '实习岗，面向2020/2021毕业的在校学生岗位职责\\n \\xa0参与大规模数据并发后端的构建\\n \\xa0参与于AWS云服务的架构设计\\n \\xa0参与游戏后台设计\\n \\xa0前端APP接口设计\\n \\xa0后端安全机制设计\\n岗位要求\\n \\xa0本科及以上在读在校生，211/985院校及海外留学学生优先；\\n \\xa0勤奋好学，接受新事物能力强；\\n \\xa01年以上的后台开发经验，熟悉 C++，Python或NodeJS或C#；\\n \\xa0了解公有云提供商提供的各种服务及其优缺点；\\n \\xa0了解C/S架构，熟悉网络打包解包；\\n \\xa0团队协作意识良好，较强沟通能力；\\n \\xa0负责过后台模块者优先；\\n \\xa0英语口语好者优先，热爱玩游戏者优先；\\n 本科以下学历请勿投递。', 'type': \"<class 'type'>\", 'latitude': '22.53064', 'longitude': '113.946947'}\n"
     ]
    },
    {
     "name": "stdout",
     "output_type": "stream",
     "text": [
      "{'firstType': '开发|测试|运维类', 'secondType': '后端开发', 'thirdType': 'C|C++', 'city': '杭州', 'positionName': 'C/C++,Python开发', 'district': 'None', 'stationname': 'None', 'jobNature': '全职', 'companyLabelList': \"['福利完善', '国际化平台', '定期体检', '绩效奖金']\", 'industryField': '通讯电子', 'salary': '12k-20k', 'companySize': '2000人以上', 'skillLables': \"['C', 'C++', 'Python']\", 'createTime': '2020-09-03 20:52:48', 'companyFullName': '华为技术有限公司', 'workYear': '1-3年', 'education': '本科', 'positionAdvantage': '薪资只要敢要就敢给，前景好，晋升快', 'url': 'https://www.lagou.com/jobs/7667979.html', 'detail': '', 'type': \"<class 'type'>\", 'latitude': 'None', 'longitude': 'None'}\n",
      "{'firstType': '开发|测试|运维类', 'secondType': '后端开发', 'thirdType': 'Python', 'city': '北京', 'positionName': 'Python后端工程师', 'district': '海淀区', 'stationname': '知春路', 'jobNature': '全职', 'companyLabelList': \"['节日礼物', '技能培训', '不限量零食', '岗位晋升']\", 'industryField': '移动互联网,教育', 'salary': '20k-35k', 'companySize': '150-500人', 'skillLables': \"['Python']\", 'createTime': '2020-09-03 20:43:23', 'companyFullName': '北京翼鸥教育科技有限公司', 'workYear': '3-5年', 'education': '本科', 'positionAdvantage': '免费三餐,不打卡,零食水果', 'url': 'https://www.lagou.com/jobs/7295996.html', 'detail': '1. 负责数据分析服务的设计与开发；2. 负责高可用架构的设计实现与维护；3. 负责数据库使用的性能分析与优化；职位要求：1. 熟练使用Mysql，mongodb等数据库的使用；2. 熟悉Python数据库中间件；3. 熟悉Linux开发，网络编程，了解操作系统相关知识；4. 可基于现有架构进行性能分析与调优；5. 具有高并发大流量常驻服务开发者优先；', 'type': \"<class 'type'>\", 'latitude': '39.978797', 'longitude': '116.336286'}\n",
      "{'firstType': '开发|测试|运维类', 'secondType': '后端开发', 'thirdType': 'Python', 'city': '武汉', 'positionName': '高级 Python 后端开发工程师', 'district': '江夏区', 'stationname': '金融港北', 'jobNature': '全职', 'companyLabelList': \"['股票期权', '弹性工作', '节日礼物', '领导好']\", 'industryField': '移动互联网,企业服务', 'salary': '15k-25k', 'companySize': '50-150人', 'skillLables': \"['Python']\", 'createTime': '2020-09-03 20:18:49', 'companyFullName': '武汉小果科技有限公司', 'workYear': '5-10年', 'education': '本科', 'positionAdvantage': '丰厚的待遇，期权，施展才能的空间', 'url': 'https://www.lagou.com/jobs/6591689.html', 'detail': '', 'type': \"<class 'type'>\", 'latitude': '30.463068', 'longitude': '114.424058'}\n"
     ]
    }
   ],
   "source": [
    "all_data = text['content']['positionResult']['result']\n",
    "for data in all_data:\n",
    "    s = requests.Session()\n",
    "    s.get(\n",
    "        url='https://www.lagou.com/jobs/list_运维?city=北京&cl=false&fromSearch=true&labelWords=&suginput=',\n",
    "        headers=headers, timeout=3)\n",
    "    cookie1 = s.cookies\n",
    "    url = 'https://www.lagou.com/jobs/' + \\\n",
    "        str(data.get('positionId')) + '.html'\n",
    "    req1 = requests.get(url, headers=headers, cookies=cookie1)\n",
    "    req1.encoding = 'utf-8'\n",
    "    html = etree.HTML(req1.text)\n",
    "    detail = ''.join(html.xpath('//*[@class=\"job-detail\"]//*/text()')).strip()\n",
    "    if detail.isspace():\n",
    "        detail = ''.join(html.xpath('//*[@class=\"job-detail\"]/text()')).strip()\n",
    "        # print(detail)\n",
    "\n",
    "    related_skills = data.get('skillLables')\n",
    "\n",
    "    data_dict = {\n",
    "        \"firstType\": str(data.get('firstType')),\n",
    "        \"secondType\": str(data.get('secondType')),\n",
    "        \"thirdType\": str(data.get('thirdType')),\n",
    "        \"city\": str(data.get(\"city\")),\n",
    "        \"positionName\": str(data.get('positionName')),\n",
    "        \"district\": str(data.get('district')),\n",
    "        \"stationname\": str(data.get('stationname')),\n",
    "        \"jobNature\": str(data.get('jobNature')),\n",
    "        \"companyLabelList\": str(data.get('companyLabelList')),\n",
    "        \"industryField\": str(data.get('industryField')),\n",
    "        \"salary\": str(data.get('salary')),\n",
    "        \"companySize\": str(data.get('companySize')),\n",
    "        \"skillLables\": str(related_skills),\n",
    "        \"createTime\": str(data.get('createTime')),\n",
    "        \"companyFullName\": str(data.get('companyFullName')),\n",
    "        \"workYear\": str(data.get('workYear')),\n",
    "        \"education\": str(data.get('education')),\n",
    "        \"positionAdvantage\": str(data.get('positionAdvantage')),\n",
    "        \"url\": str(url),\n",
    "        \"detail\": str(detail),\n",
    "        \"type\": str(type),\n",
    "        \"latitude\": str(data.get(\"latitude\")),\n",
    "        \"longitude\": str(data.get(\"longitude\")),\n",
    "#         \"keyword\": str(keyword),\n",
    "        }\n",
    "    print(data_dict)"
   ]
  },
  {
   "cell_type": "markdown",
   "metadata": {
    "slideshow": {
     "slide_type": "slide"
    }
   },
   "source": [
    "大量数据散落在互联网中，要分析析互联网上的数据，需要先把数据从网络中获取下来，这就需要爬虫技术，在爬虫系统中，待抓取URL队例是很重要的一部分，待抓取URL队列中的URL以什么样的顺序排列也是一个很重要的问题，因为其决定了先抓取哪个页面、后抓取哪个页面。而决定这些URL排列顺序的方法叫做抓取策略，下面介绍，几种常见抓取策略：\n",
    "\n",
    "  1.深度优先遍历策略，深度优先遍历策略是指网络爬虫会起始页开始，一个链接一个链接跟踪下云，处理完这条线路之后，再转入下一个起始页，继续跟踪链接。\n",
    "\n",
    "  2.宽度优先遍历策略，宽度优先遍历策略的基本思路是将新下载网页中发现的链接直接插入待抓取URL队列的末尾，也就是说，网络爬虫会先抓取起始网页中链接的所有网页，然后再选择其中的一个链接网页，继续抓取网页中链接的所有网页。\n",
    "\n",
    "  3.反向链接数策略，反向链接数是指一个网页被其他网页链接指向的数量。反向链接数表示的是一个网页的内容受到其他人推荐的程度。因此，很多时候搜索引擎的抓取系统会使用这个指标来评价网页的重要程度，从而决定不同网页抓取顺序。\n",
    "\n",
    "  4.大站优先策略，对于待抓取URL队列中的所有网页，根据所属的网站进行分类；对于待下载页面数多的网站，则优先下载。这种策略也因此被叫作大站优先策略。"
   ]
  },
  {
   "cell_type": "code",
   "execution_count": null,
   "metadata": {},
   "outputs": [],
   "source": [
    "import threading\n",
    "\n",
    "import requests\n",
    "from lxml import etree\n",
    "\n",
    "from config import config\n",
    "from utils.common import get_header\n",
    "from utils.db_utils import insert\n",
    "from collections import Counter\n",
    "\n",
    "\n",
    "class LaGou(object):\n",
    "\n",
    "    def __init__(self, thread=12):\n",
    "        # self.keyword = keyword\n",
    "        self.thread = thread\n",
    "        # self.city = city\n",
    "        # self.type = type\n",
    "        self.baseurl = 'https://www.lagou.com/jobs/positionAjax.json'\n",
    "        self.header = {\n",
    "            'Accept': 'application/json, text/javascript, */*; q=0.01',\n",
    "            'Referer': 'https://www.lagou.com/jobs/list_%E8%BF%90%E7%BB%B4?city=%E6%88%90%E9%83%BD&cl=false&fromSearch=true&labelWords=&suginput=',\n",
    "            'User-Agent': 'Mozilla/5.0 (Windows NT 10.0; Win64; x64) AppleWebKit/537.36 (KHTML, like Gecko) Chrome/72.0.3626.121 Safari/537.36'\n",
    "        }\n",
    "\n",
    "    def spider(self, keyword, city, type):\n",
    "\n",
    "        expanded_skills = []\n",
    "\n",
    "        max_page = 10\n",
    "        for i in range(1, max_page):\n",
    "            s = requests.Session()\n",
    "            s.get(\n",
    "                url='https://www.lagou.com/jobs/list_运维?city=北京&cl=false&fromSearch=true&labelWords=&suginput=',\n",
    "                headers=get_header(), timeout=3)\n",
    "            cookie = s.cookies\n",
    "            res = requests.post(self.baseurl, headers=self.header, data={'first': True, 'pn': i, 'kd': keyword},\n",
    "                                params={'px': 'default', 'city': city,\n",
    "                                        'needAddtionalResult': 'false'},\n",
    "                                cookies=cookie, timeout=3)\n",
    "            text = res.json()\n",
    "            all_data = text['content']['positionResult']['result']\n",
    "            for data in all_data:\n",
    "                s = requests.Session()\n",
    "                s.get(\n",
    "                    url='https://www.lagou.com/jobs/list_运维?city=北京&cl=false&fromSearch=true&labelWords=&suginput=',\n",
    "                    headers=get_header(), timeout=3)\n",
    "                cookie1 = s.cookies\n",
    "                url = 'https://www.lagou.com/jobs/' + \\\n",
    "                    str(data.get('positionId')) + '.html'\n",
    "                req1 = requests.get(url, headers=self.header, cookies=cookie1)\n",
    "                req1.encoding = 'utf-8'\n",
    "                html = etree.HTML(req1.text)\n",
    "                detail = ''.join(html.xpath(\n",
    "                    '//*[@class=\"job-detail\"]//*/text()')).strip()\n",
    "                if detail.isspace():\n",
    "                    detail = ''.join(html.xpath(\n",
    "                        '//*[@class=\"job-detail\"]/text()')).strip()\n",
    "                # print(detail)\n",
    "\n",
    "                related_skills = data.get('skillLables')\n",
    "\n",
    "                data_dict = {\n",
    "                    \"firstType\": str(data.get('firstType')),\n",
    "                    \"secondType\": str(data.get('secondType')),\n",
    "                    \"thirdType\": str(data.get('thirdType')),\n",
    "                    \"city\": str(data.get(\"city\")),\n",
    "                    \"positionName\": str(data.get('positionName')),\n",
    "                    \"district\": str(data.get('district')),\n",
    "                    \"stationname\": str(data.get('stationname')),\n",
    "                    \"jobNature\": str(data.get('jobNature')),\n",
    "                    \"companyLabelList\": str(data.get('companyLabelList')),\n",
    "                    \"industryField\": str(data.get('industryField')),\n",
    "                    \"salary\": str(data.get('salary')),\n",
    "                    \"companySize\": str(data.get('companySize')),\n",
    "                    \"skillLables\": str(related_skills),\n",
    "                    \"createTime\": str(data.get('createTime')),\n",
    "                    \"companyFullName\": str(data.get('companyFullName')),\n",
    "                    \"workYear\": str(data.get('workYear')),\n",
    "                    \"education\": str(data.get('education')),\n",
    "                    \"positionAdvantage\": str(data.get('positionAdvantage')),\n",
    "                    \"url\": str(url),\n",
    "                    \"detail\": str(detail),\n",
    "                    \"type\": str(type),\n",
    "                    \"latitude\": str(data.get(\"latitude\")),\n",
    "                    \"longitude\": str(data.get(\"longitude\")),\n",
    "                    \"keyword\": str(keyword),\n",
    "                }\n",
    "                # print(data_dict)\n",
    "                # time.sleep(random.randint(1, 5))\n",
    "\n",
    "                expanded_skills += related_skills\n",
    "\n",
    "                # print(related_skills)\n",
    "\n",
    "                if not insert('lagou_copy1_copy1', **data_dict):\n",
    "                    continue\n",
    "\n",
    "        return [s.lower() for s in expanded_skills]\n",
    "\n",
    "    def run(self):\n",
    "        _, position, init_job = config()\n",
    "        visited_jobs = set()\n",
    "        thread_list = []\n",
    "        for i in range(self.thread):\n",
    "            t = threading.Thread(target=self.lagou_worker,\n",
    "                                 args=(init_job, position, visited_jobs))\n",
    "            thread_list.append(t)\n",
    "        for t in thread_list:\n",
    "            t.setDaemon(True)\n",
    "            t.start()\n",
    "        for t in thread_list:\n",
    "            t.join()\n",
    "\n",
    "    def lagou_worker(self, init_job, position, visited_jobs):\n",
    "\n",
    "        while init_job:\n",
    "            search_job = init_job.pop(0)\n",
    "\n",
    "            print('We need to search {}, now search {}'.format(\n",
    "                init_job, search_job))\n",
    "\n",
    "            if search_job in visited_jobs:\n",
    "                continue\n",
    "            type = ''\n",
    "            for k, v in position.items():\n",
    "                if search_job in v:\n",
    "                    type = k\n",
    "\n",
    "            new_expaned = self.spider(search_job, '无锡', type)\n",
    "\n",
    "            expaned_counter = Counter(new_expaned).most_common(n=5)\n",
    "\n",
    "            new_jobs = [j for j, n in expaned_counter]\n",
    "\n",
    "            init_job += new_jobs\n",
    "\n",
    "            visited_jobs.add(search_job)\n",
    "\n",
    "\n",
    "if __name__ == '__main__':\n",
    "\n",
    "    LaGou().run()"
   ]
  }
 ],
 "metadata": {
  "celltoolbar": "幻灯片",
  "kernelspec": {
   "display_name": "Python 3",
   "language": "python",
   "name": "python3"
  },
  "language_info": {
   "codemirror_mode": {
    "name": "ipython",
    "version": 3
   },
   "file_extension": ".py",
   "mimetype": "text/x-python",
   "name": "python",
   "nbconvert_exporter": "python",
   "pygments_lexer": "ipython3",
   "version": "3.7.4"
  },
  "toc": {
   "base_numbering": 1,
   "nav_menu": {},
   "number_sections": true,
   "sideBar": true,
   "skip_h1_title": false,
   "title_cell": "Table of Contents",
   "title_sidebar": "Contents",
   "toc_cell": false,
   "toc_position": {
    "height": "calc(100% - 180px)",
    "left": "10px",
    "top": "150px",
    "width": "349.091px"
   },
   "toc_section_display": true,
   "toc_window_display": true
  },
  "varInspector": {
   "cols": {
    "lenName": 16,
    "lenType": 16,
    "lenVar": 40
   },
   "kernels_config": {
    "python": {
     "delete_cmd_postfix": "",
     "delete_cmd_prefix": "del ",
     "library": "var_list.py",
     "varRefreshCmd": "print(var_dic_list())"
    },
    "r": {
     "delete_cmd_postfix": ") ",
     "delete_cmd_prefix": "rm(",
     "library": "var_list.r",
     "varRefreshCmd": "cat(var_dic_list()) "
    }
   },
   "types_to_exclude": [
    "module",
    "function",
    "builtin_function_or_method",
    "instance",
    "_Feature"
   ],
   "window_display": false
  }
 },
 "nbformat": 4,
 "nbformat_minor": 4
}
